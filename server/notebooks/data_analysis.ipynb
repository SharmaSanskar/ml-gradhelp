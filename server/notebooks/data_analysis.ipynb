{
 "cells": [
  {
   "cell_type": "code",
   "execution_count": 1,
   "id": "5b2d02af",
   "metadata": {},
   "outputs": [],
   "source": [
    "import numpy as np\n",
    "import pandas as pd\n",
    "import matplotlib.pyplot as plt\n",
    "import seaborn as sns"
   ]
  },
  {
   "cell_type": "markdown",
   "id": "282d47b6",
   "metadata": {},
   "source": [
    "- Num of admits per university\n",
    "- Average GRE and TOEFL score for top universities\n",
    "- Distribution of industry and research experience\n",
    "- CGPA distribution and importance\n",
    "- Top majors"
   ]
  },
  {
   "cell_type": "code",
   "execution_count": 2,
   "id": "e8123132",
   "metadata": {},
   "outputs": [
    {
     "data": {
      "text/html": [
       "<div>\n",
       "<style scoped>\n",
       "    .dataframe tbody tr th:only-of-type {\n",
       "        vertical-align: middle;\n",
       "    }\n",
       "\n",
       "    .dataframe tbody tr th {\n",
       "        vertical-align: top;\n",
       "    }\n",
       "\n",
       "    .dataframe thead th {\n",
       "        text-align: right;\n",
       "    }\n",
       "</style>\n",
       "<table border=\"1\" class=\"dataframe\">\n",
       "  <thead>\n",
       "    <tr style=\"text-align: right;\">\n",
       "      <th></th>\n",
       "      <th>major</th>\n",
       "      <th>researchExp</th>\n",
       "      <th>industryExp</th>\n",
       "      <th>toeflScore</th>\n",
       "      <th>greV</th>\n",
       "      <th>greQ</th>\n",
       "      <th>greA</th>\n",
       "      <th>univName</th>\n",
       "      <th>cgpaNorm</th>\n",
       "    </tr>\n",
       "  </thead>\n",
       "  <tbody>\n",
       "    <tr>\n",
       "      <th>0</th>\n",
       "      <td>(MIS / MSIM / MSIS / MSIT)</td>\n",
       "      <td>0</td>\n",
       "      <td>66</td>\n",
       "      <td>94.0</td>\n",
       "      <td>146.0</td>\n",
       "      <td>157.0</td>\n",
       "      <td>3.0</td>\n",
       "      <td>Worcester Polytechnic Institute</td>\n",
       "      <td>0.7828</td>\n",
       "    </tr>\n",
       "    <tr>\n",
       "      <th>1</th>\n",
       "      <td>MIS</td>\n",
       "      <td>0</td>\n",
       "      <td>0</td>\n",
       "      <td>81.0</td>\n",
       "      <td>148.0</td>\n",
       "      <td>161.0</td>\n",
       "      <td>2.5</td>\n",
       "      <td>Worcester Polytechnic Institute</td>\n",
       "      <td>0.5700</td>\n",
       "    </tr>\n",
       "    <tr>\n",
       "      <th>2</th>\n",
       "      <td>MIS</td>\n",
       "      <td>0</td>\n",
       "      <td>0</td>\n",
       "      <td>104.0</td>\n",
       "      <td>150.0</td>\n",
       "      <td>161.0</td>\n",
       "      <td>4.5</td>\n",
       "      <td>Worcester Polytechnic Institute</td>\n",
       "      <td>0.6220</td>\n",
       "    </tr>\n",
       "    <tr>\n",
       "      <th>3</th>\n",
       "      <td>MIS-management related courses</td>\n",
       "      <td>0</td>\n",
       "      <td>0</td>\n",
       "      <td>95.0</td>\n",
       "      <td>147.0</td>\n",
       "      <td>156.0</td>\n",
       "      <td>3.0</td>\n",
       "      <td>Worcester Polytechnic Institute</td>\n",
       "      <td>0.5200</td>\n",
       "    </tr>\n",
       "    <tr>\n",
       "      <th>4</th>\n",
       "      <td>MIS</td>\n",
       "      <td>0</td>\n",
       "      <td>0</td>\n",
       "      <td>101.0</td>\n",
       "      <td>152.0</td>\n",
       "      <td>158.0</td>\n",
       "      <td>3.0</td>\n",
       "      <td>Worcester Polytechnic Institute</td>\n",
       "      <td>0.6400</td>\n",
       "    </tr>\n",
       "  </tbody>\n",
       "</table>\n",
       "</div>"
      ],
      "text/plain": [
       "                            major  researchExp  industryExp  toeflScore  \\\n",
       "0      (MIS / MSIM / MSIS / MSIT)            0           66        94.0   \n",
       "1                             MIS            0            0        81.0   \n",
       "2                             MIS            0            0       104.0   \n",
       "3  MIS-management related courses            0            0        95.0   \n",
       "4                             MIS            0            0       101.0   \n",
       "\n",
       "    greV   greQ  greA                         univName  cgpaNorm  \n",
       "0  146.0  157.0   3.0  Worcester Polytechnic Institute    0.7828  \n",
       "1  148.0  161.0   2.5  Worcester Polytechnic Institute    0.5700  \n",
       "2  150.0  161.0   4.5  Worcester Polytechnic Institute    0.6220  \n",
       "3  147.0  156.0   3.0  Worcester Polytechnic Institute    0.5200  \n",
       "4  152.0  158.0   3.0  Worcester Polytechnic Institute    0.6400  "
      ]
     },
     "execution_count": 2,
     "metadata": {},
     "output_type": "execute_result"
    }
   ],
   "source": [
    "df = pd.read_csv('../datasets/admission_data_cleaned.csv')\n",
    "df.head()"
   ]
  },
  {
   "cell_type": "code",
   "execution_count": 3,
   "id": "1bf26178",
   "metadata": {},
   "outputs": [
    {
     "data": {
      "text/plain": [
       "52"
      ]
     },
     "execution_count": 3,
     "metadata": {},
     "output_type": "execute_result"
    }
   ],
   "source": [
    "df['univName'].nunique()"
   ]
  },
  {
   "cell_type": "code",
   "execution_count": 4,
   "id": "af64e14d",
   "metadata": {},
   "outputs": [
    {
     "data": {
      "text/plain": [
       "<AxesSubplot:xlabel='univName'>"
      ]
     },
     "execution_count": 4,
     "metadata": {},
     "output_type": "execute_result"
    },
    {
     "data": {
      "image/png": "[encoded data removed]",
      "text/plain": [
       "<Figure size 864x792 with 1 Axes>"
      ]
     },
     "metadata": {
      "needs_background": "light"
     },
     "output_type": "display_data"
    }
   ],
   "source": [
    "admits = df['univName'].value_counts()\n",
    "plt.figure(figsize=(12,11))\n",
    "sns.barplot(x=admits, y=admits.index)"
   ]
  },
  {
   "cell_type": "markdown",
   "id": "e759a9e8",
   "metadata": {},
   "source": [
    "University of Texas Dallas has the most number of admits"
   ]
  },
  {
   "cell_type": "code",
   "execution_count": 5,
   "id": "3f71cb5e",
   "metadata": {},
   "outputs": [],
   "source": [
    "avg_scores = df.groupby('univName')[['greQ', 'greV', 'greA', 'toeflScore', 'cgpaNorm']].mean()\n",
    "avg_scores['gre'] = avg_scores['greQ'] + avg_scores['greV']"
   ]
  },
  {
   "cell_type": "code",
   "execution_count": 6,
   "id": "b1c923da",
   "metadata": {},
   "outputs": [
    {
     "data": {
      "text/html": [
       "<div>\n",
       "<style scoped>\n",
       "    .dataframe tbody tr th:only-of-type {\n",
       "        vertical-align: middle;\n",
       "    }\n",
       "\n",
       "    .dataframe tbody tr th {\n",
       "        vertical-align: top;\n",
       "    }\n",
       "\n",
       "    .dataframe thead th {\n",
       "        text-align: right;\n",
       "    }\n",
       "</style>\n",
       "<table border=\"1\" class=\"dataframe\">\n",
       "  <thead>\n",
       "    <tr style=\"text-align: right;\">\n",
       "      <th></th>\n",
       "      <th>gre</th>\n",
       "      <th>toeflScore</th>\n",
       "    </tr>\n",
       "    <tr>\n",
       "      <th>univName</th>\n",
       "      <th></th>\n",
       "      <th></th>\n",
       "    </tr>\n",
       "  </thead>\n",
       "  <tbody>\n",
       "    <tr>\n",
       "      <th>Stanford University</th>\n",
       "      <td>326.500000</td>\n",
       "      <td>111.633333</td>\n",
       "    </tr>\n",
       "    <tr>\n",
       "      <th>Massachusetts Institute of Technology</th>\n",
       "      <td>324.800000</td>\n",
       "      <td>102.200000</td>\n",
       "    </tr>\n",
       "    <tr>\n",
       "      <th>University of Texas Austin</th>\n",
       "      <td>324.346154</td>\n",
       "      <td>110.423077</td>\n",
       "    </tr>\n",
       "    <tr>\n",
       "      <th>Georgia Institute of Technology</th>\n",
       "      <td>324.163121</td>\n",
       "      <td>111.075650</td>\n",
       "    </tr>\n",
       "    <tr>\n",
       "      <th>California Institute of Technology</th>\n",
       "      <td>323.800000</td>\n",
       "      <td>101.600000</td>\n",
       "    </tr>\n",
       "    <tr>\n",
       "      <th>University of California San Diego</th>\n",
       "      <td>323.522124</td>\n",
       "      <td>109.867257</td>\n",
       "    </tr>\n",
       "    <tr>\n",
       "      <th>Columbia University</th>\n",
       "      <td>323.448485</td>\n",
       "      <td>110.551515</td>\n",
       "    </tr>\n",
       "    <tr>\n",
       "      <th>University of California Los Angeles</th>\n",
       "      <td>323.432692</td>\n",
       "      <td>109.846154</td>\n",
       "    </tr>\n",
       "    <tr>\n",
       "      <th>University of North Carolina Chapel Hill</th>\n",
       "      <td>323.350000</td>\n",
       "      <td>111.200000</td>\n",
       "    </tr>\n",
       "    <tr>\n",
       "      <th>University of Michigan Ann Arbor</th>\n",
       "      <td>323.348066</td>\n",
       "      <td>110.430939</td>\n",
       "    </tr>\n",
       "  </tbody>\n",
       "</table>\n",
       "</div>"
      ],
      "text/plain": [
       "                                                 gre  toeflScore\n",
       "univName                                                        \n",
       "Stanford University                       326.500000  111.633333\n",
       "Massachusetts Institute of Technology     324.800000  102.200000\n",
       "University of Texas Austin                324.346154  110.423077\n",
       "Georgia Institute of Technology           324.163121  111.075650\n",
       "California Institute of Technology        323.800000  101.600000\n",
       "University of California San Diego        323.522124  109.867257\n",
       "Columbia University                       323.448485  110.551515\n",
       "University of California Los Angeles      323.432692  109.846154\n",
       "University of North Carolina Chapel Hill  323.350000  111.200000\n",
       "University of Michigan Ann Arbor          323.348066  110.430939"
      ]
     },
     "execution_count": 6,
     "metadata": {},
     "output_type": "execute_result"
    }
   ],
   "source": [
    "avg_scores[['gre', 'toeflScore']].sort_values(['gre', 'toeflScore'], ascending=False).head(10)"
   ]
  },
  {
   "cell_type": "code",
   "execution_count": 7,
   "id": "fbfdc104",
   "metadata": {},
   "outputs": [
    {
     "data": {
      "text/html": [
       "<div>\n",
       "<style scoped>\n",
       "    .dataframe tbody tr th:only-of-type {\n",
       "        vertical-align: middle;\n",
       "    }\n",
       "\n",
       "    .dataframe tbody tr th {\n",
       "        vertical-align: top;\n",
       "    }\n",
       "\n",
       "    .dataframe thead th {\n",
       "        text-align: right;\n",
       "    }\n",
       "</style>\n",
       "<table border=\"1\" class=\"dataframe\">\n",
       "  <thead>\n",
       "    <tr style=\"text-align: right;\">\n",
       "      <th></th>\n",
       "      <th>gre</th>\n",
       "      <th>cgpaNorm</th>\n",
       "    </tr>\n",
       "    <tr>\n",
       "      <th>univName</th>\n",
       "      <th></th>\n",
       "      <th></th>\n",
       "    </tr>\n",
       "  </thead>\n",
       "  <tbody>\n",
       "    <tr>\n",
       "      <th>Stanford University</th>\n",
       "      <td>326.500000</td>\n",
       "      <td>0.872277</td>\n",
       "    </tr>\n",
       "    <tr>\n",
       "      <th>Massachusetts Institute of Technology</th>\n",
       "      <td>324.800000</td>\n",
       "      <td>0.878200</td>\n",
       "    </tr>\n",
       "    <tr>\n",
       "      <th>University of Texas Austin</th>\n",
       "      <td>324.346154</td>\n",
       "      <td>0.878451</td>\n",
       "    </tr>\n",
       "    <tr>\n",
       "      <th>Georgia Institute of Technology</th>\n",
       "      <td>324.163121</td>\n",
       "      <td>0.807155</td>\n",
       "    </tr>\n",
       "    <tr>\n",
       "      <th>California Institute of Technology</th>\n",
       "      <td>323.800000</td>\n",
       "      <td>0.692200</td>\n",
       "    </tr>\n",
       "    <tr>\n",
       "      <th>University of California San Diego</th>\n",
       "      <td>323.522124</td>\n",
       "      <td>0.852940</td>\n",
       "    </tr>\n",
       "    <tr>\n",
       "      <th>Columbia University</th>\n",
       "      <td>323.448485</td>\n",
       "      <td>0.801787</td>\n",
       "    </tr>\n",
       "    <tr>\n",
       "      <th>University of California Los Angeles</th>\n",
       "      <td>323.432692</td>\n",
       "      <td>0.838928</td>\n",
       "    </tr>\n",
       "    <tr>\n",
       "      <th>University of North Carolina Chapel Hill</th>\n",
       "      <td>323.350000</td>\n",
       "      <td>0.835365</td>\n",
       "    </tr>\n",
       "    <tr>\n",
       "      <th>University of Michigan Ann Arbor</th>\n",
       "      <td>323.348066</td>\n",
       "      <td>0.822736</td>\n",
       "    </tr>\n",
       "  </tbody>\n",
       "</table>\n",
       "</div>"
      ],
      "text/plain": [
       "                                                 gre  cgpaNorm\n",
       "univName                                                      \n",
       "Stanford University                       326.500000  0.872277\n",
       "Massachusetts Institute of Technology     324.800000  0.878200\n",
       "University of Texas Austin                324.346154  0.878451\n",
       "Georgia Institute of Technology           324.163121  0.807155\n",
       "California Institute of Technology        323.800000  0.692200\n",
       "University of California San Diego        323.522124  0.852940\n",
       "Columbia University                       323.448485  0.801787\n",
       "University of California Los Angeles      323.432692  0.838928\n",
       "University of North Carolina Chapel Hill  323.350000  0.835365\n",
       "University of Michigan Ann Arbor          323.348066  0.822736"
      ]
     },
     "execution_count": 7,
     "metadata": {},
     "output_type": "execute_result"
    }
   ],
   "source": [
    "avg_scores[['gre', 'cgpaNorm']].sort_values(['gre', 'cgpaNorm'], ascending=False).head(10)"
   ]
  },
  {
   "cell_type": "markdown",
   "id": "04a93f5b",
   "metadata": {},
   "source": [
    "Top universities like Standford and MIT require GRE of around 325, TOEFL of 100+, and normalized CGPA of 8+"
   ]
  },
  {
   "cell_type": "code",
   "execution_count": 8,
   "id": "0f6190df",
   "metadata": {},
   "outputs": [
    {
     "data": {
      "text/plain": [
       "<AxesSubplot:xlabel='industryExp', ylabel='Count'>"
      ]
     },
     "execution_count": 8,
     "metadata": {},
     "output_type": "execute_result"
    },
    {
     "data": {
      "image/png": "[encoded data removed]",
      "text/plain": [
       "<Figure size 720x432 with 1 Axes>"
      ]
     },
     "metadata": {
      "needs_background": "light"
     },
     "output_type": "display_data"
    }
   ],
   "source": [
    "plt.figure(figsize=(10,6))\n",
    "sns.histplot(x='industryExp', data=df)"
   ]
  },
  {
   "cell_type": "code",
   "execution_count": 9,
   "id": "2e731531",
   "metadata": {},
   "outputs": [
    {
     "data": {
      "text/plain": [
       "<AxesSubplot:xlabel='researchExp', ylabel='Count'>"
      ]
     },
     "execution_count": 9,
     "metadata": {},
     "output_type": "execute_result"
    },
    {
     "data": {
      "image/png": "[encoded data removed]",
      "text/plain": [
       "<Figure size 720x432 with 1 Axes>"
      ]
     },
     "metadata": {
      "needs_background": "light"
     },
     "output_type": "display_data"
    }
   ],
   "source": [
    "plt.figure(figsize=(10,6))\n",
    "sns.histplot(x='researchExp', data=df)"
   ]
  },
  {
   "cell_type": "markdown",
   "id": "47e95ecd",
   "metadata": {},
   "source": [
    "Most admitted applicants didn't have any industry or research experience"
   ]
  },
  {
   "cell_type": "markdown",
   "id": "518450ee",
   "metadata": {},
   "source": [
    "Most admitted applicants didn't have any journal publications"
   ]
  },
  {
   "cell_type": "code",
   "execution_count": 10,
   "id": "f71a60da",
   "metadata": {},
   "outputs": [
    {
     "data": {
      "text/plain": [
       "<AxesSubplot:>"
      ]
     },
     "execution_count": 10,
     "metadata": {},
     "output_type": "execute_result"
    },
    {
     "data": {
      "image/png": "[encoded data removed]",
      "text/plain": [
       "<Figure size 576x432 with 1 Axes>"
      ]
     },
     "metadata": {
      "needs_background": "light"
     },
     "output_type": "display_data"
    }
   ],
   "source": [
    "plt.figure(figsize=(8,6))\n",
    "test_scores = df[['greQ', 'greV', 'toeflScore']]\n",
    "sns.boxplot(data=test_scores)"
   ]
  },
  {
   "cell_type": "markdown",
   "id": "761ba619",
   "metadata": {},
   "source": [
    "On average, people score higher in Quants section of GRE compared to Verbal"
   ]
  },
  {
   "cell_type": "code",
   "execution_count": 11,
   "id": "a14c3765",
   "metadata": {},
   "outputs": [
    {
     "data": {
      "text/plain": [
       "<AxesSubplot:xlabel='cgpaNorm', ylabel='Count'>"
      ]
     },
     "execution_count": 11,
     "metadata": {},
     "output_type": "execute_result"
    },
    {
     "data": {
      "image/png": "[encoded data removed]",
      "text/plain": [
       "<Figure size 720x432 with 1 Axes>"
      ]
     },
     "metadata": {
      "needs_background": "light"
     },
     "output_type": "display_data"
    }
   ],
   "source": [
    "plt.figure(figsize=(10,6))\n",
    "sns.histplot(x='cgpaNorm', data=df)"
   ]
  },
  {
   "cell_type": "markdown",
   "id": "e6b79df7",
   "metadata": {},
   "source": [
    "CGPA is normally distributed with mean around 8"
   ]
  },
  {
   "cell_type": "code",
   "execution_count": 12,
   "id": "28080920",
   "metadata": {},
   "outputs": [
    {
     "data": {
      "text/plain": [
       "<AxesSubplot:ylabel='cgpaNorm'>"
      ]
     },
     "execution_count": 12,
     "metadata": {},
     "output_type": "execute_result"
    },
    {
     "data": {
      "image/png": "[encoded data removed]",
      "text/plain": [
       "<Figure size 288x432 with 1 Axes>"
      ]
     },
     "metadata": {
      "needs_background": "light"
     },
     "output_type": "display_data"
    }
   ],
   "source": [
    "plt.figure(figsize=(4,6))\n",
    "sns.boxplot(y='cgpaNorm', data=df)"
   ]
  },
  {
   "cell_type": "code",
   "execution_count": 13,
   "id": "28546648",
   "metadata": {},
   "outputs": [
    {
     "data": {
      "text/plain": [
       "35"
      ]
     },
     "execution_count": 13,
     "metadata": {},
     "output_type": "execute_result"
    }
   ],
   "source": [
    "df['major'].nunique()"
   ]
  },
  {
   "cell_type": "code",
   "execution_count": 14,
   "id": "589169cc",
   "metadata": {},
   "outputs": [
    {
     "data": {
      "text/plain": [
       "<AxesSubplot:xlabel='major'>"
      ]
     },
     "execution_count": 14,
     "metadata": {},
     "output_type": "execute_result"
    },
    {
     "data": {
      "image/png": "[encoded data removed]",
      "text/plain": [
       "<Figure size 720x576 with 1 Axes>"
      ]
     },
     "metadata": {
      "needs_background": "light"
     },
     "output_type": "display_data"
    }
   ],
   "source": [
    "majors = df['major'].value_counts().head(20)\n",
    "plt.figure(figsize=(10,8))\n",
    "sns.barplot(x=majors, y=majors.index)"
   ]
  },
  {
   "cell_type": "markdown",
   "id": "b4727798",
   "metadata": {},
   "source": [
    "Computer and Electrical engineering related fields are popular"
   ]
  },
  {
   "cell_type": "markdown",
   "id": "d4b112fd",
   "metadata": {},
   "source": [
    "We won't use the major column as it has many unique values. Also admission chance prediction model does not require major information as well"
   ]
  },
  {
   "cell_type": "code",
   "execution_count": 15,
   "id": "bdbed332",
   "metadata": {},
   "outputs": [],
   "source": [
    "df = df.drop(['major'], axis=1)"
   ]
  },
  {
   "cell_type": "markdown",
   "id": "7229a0c9",
   "metadata": {},
   "source": [
    "#### CGPA, GRE, TOEFL scores are most important factors for getting admits in US universities."
   ]
  },
  {
   "cell_type": "markdown",
   "id": "ad599971",
   "metadata": {},
   "source": [
    "### Making sure universities name are compatible with the top 300 universities table"
   ]
  },
  {
   "cell_type": "code",
   "execution_count": 16,
   "id": "c440e0b5",
   "metadata": {},
   "outputs": [
    {
     "data": {
      "text/html": [
       "<div>\n",
       "<style scoped>\n",
       "    .dataframe tbody tr th:only-of-type {\n",
       "        vertical-align: middle;\n",
       "    }\n",
       "\n",
       "    .dataframe tbody tr th {\n",
       "        vertical-align: top;\n",
       "    }\n",
       "\n",
       "    .dataframe thead th {\n",
       "        text-align: right;\n",
       "    }\n",
       "</style>\n",
       "<table border=\"1\" class=\"dataframe\">\n",
       "  <thead>\n",
       "    <tr style=\"text-align: right;\">\n",
       "      <th></th>\n",
       "      <th>name</th>\n",
       "      <th>tuition</th>\n",
       "      <th>rank</th>\n",
       "      <th>acceptance</th>\n",
       "      <th>website</th>\n",
       "      <th>location</th>\n",
       "    </tr>\n",
       "  </thead>\n",
       "  <tbody>\n",
       "    <tr>\n",
       "      <th>0</th>\n",
       "      <td>Princeton University</td>\n",
       "      <td>$47,140</td>\n",
       "      <td>1</td>\n",
       "      <td>7%</td>\n",
       "      <td>http://www.princeton.edu</td>\n",
       "      <td>Princeton, NJ</td>\n",
       "    </tr>\n",
       "    <tr>\n",
       "      <th>1</th>\n",
       "      <td>Harvard University</td>\n",
       "      <td>$50,420</td>\n",
       "      <td>2</td>\n",
       "      <td>5%</td>\n",
       "      <td>http://www.harvard.edu</td>\n",
       "      <td>Cambridge, MA</td>\n",
       "    </tr>\n",
       "    <tr>\n",
       "      <th>2</th>\n",
       "      <td>Columbia University</td>\n",
       "      <td>$59,430</td>\n",
       "      <td>3</td>\n",
       "      <td>7%</td>\n",
       "      <td>http://www.columbia.edu</td>\n",
       "      <td>New York, NY</td>\n",
       "    </tr>\n",
       "    <tr>\n",
       "      <th>3</th>\n",
       "      <td>Massachusetts Institute of Technology</td>\n",
       "      <td>$51,832</td>\n",
       "      <td>4</td>\n",
       "      <td>8%</td>\n",
       "      <td>http://web.mit.edu/</td>\n",
       "      <td>Cambridge, MA</td>\n",
       "    </tr>\n",
       "    <tr>\n",
       "      <th>4</th>\n",
       "      <td>University of Chicago</td>\n",
       "      <td>$57,006</td>\n",
       "      <td>5</td>\n",
       "      <td>8%</td>\n",
       "      <td>http://www.uchicago.edu</td>\n",
       "      <td>Chicago, IL</td>\n",
       "    </tr>\n",
       "  </tbody>\n",
       "</table>\n",
       "</div>"
      ],
      "text/plain": [
       "                                    name  tuition  rank acceptance  \\\n",
       "0                   Princeton University  $47,140     1         7%   \n",
       "1                     Harvard University  $50,420     2         5%   \n",
       "2                    Columbia University  $59,430     3         7%   \n",
       "3  Massachusetts Institute of Technology  $51,832     4         8%   \n",
       "4                  University of Chicago  $57,006     5         8%   \n",
       "\n",
       "                    website       location  \n",
       "0  http://www.princeton.edu  Princeton, NJ  \n",
       "1    http://www.harvard.edu  Cambridge, MA  \n",
       "2   http://www.columbia.edu   New York, NY  \n",
       "3       http://web.mit.edu/  Cambridge, MA  \n",
       "4   http://www.uchicago.edu    Chicago, IL  "
      ]
     },
     "execution_count": 16,
     "metadata": {},
     "output_type": "execute_result"
    }
   ],
   "source": [
    "top_df = pd.read_csv('../datasets/universities_data_300.csv')\n",
    "top_df.head()"
   ]
  },
  {
   "cell_type": "markdown",
   "id": "a8b73a60",
   "metadata": {},
   "source": [
    "Finding universities whose name does not match any top 300 university"
   ]
  },
  {
   "cell_type": "code",
   "execution_count": 17,
   "id": "6d1342cd",
   "metadata": {},
   "outputs": [
    {
     "data": {
      "text/plain": [
       "['virginia polytechnic institute and state university',\n",
       " 'north carolina state university',\n",
       " 'suny stony brook',\n",
       " 'rutgers university new brunswick/piscataway',\n",
       " 'texas a and m university college station',\n",
       " 'purdue university',\n",
       " 'suny buffalo',\n",
       " 'arizona state university']"
      ]
     },
     "execution_count": 17,
     "metadata": {},
     "output_type": "execute_result"
    }
   ],
   "source": [
    "top_300 = [x.replace(\"--\", \" \").lower() for x in top_df['name'].unique()]\n",
    "unis = [x.lower() for x in df['univName'].unique()]\n",
    "extras = list(set(unis) - set(top_300))\n",
    "extras"
   ]
  },
  {
   "cell_type": "markdown",
   "id": "90ffcdd2",
   "metadata": {},
   "source": [
    "Renaming universities to be in sync with top 300 univeristies"
   ]
  },
  {
   "cell_type": "code",
   "execution_count": 18,
   "id": "37eff7da",
   "metadata": {},
   "outputs": [
    {
     "data": {
      "text/html": [
       "<div>\n",
       "<style scoped>\n",
       "    .dataframe tbody tr th:only-of-type {\n",
       "        vertical-align: middle;\n",
       "    }\n",
       "\n",
       "    .dataframe tbody tr th {\n",
       "        vertical-align: top;\n",
       "    }\n",
       "\n",
       "    .dataframe thead th {\n",
       "        text-align: right;\n",
       "    }\n",
       "</style>\n",
       "<table border=\"1\" class=\"dataframe\">\n",
       "  <thead>\n",
       "    <tr style=\"text-align: right;\">\n",
       "      <th></th>\n",
       "      <th>researchExp</th>\n",
       "      <th>industryExp</th>\n",
       "      <th>toeflScore</th>\n",
       "      <th>greV</th>\n",
       "      <th>greQ</th>\n",
       "      <th>greA</th>\n",
       "      <th>univName</th>\n",
       "      <th>cgpaNorm</th>\n",
       "    </tr>\n",
       "  </thead>\n",
       "  <tbody>\n",
       "    <tr>\n",
       "      <th>15387</th>\n",
       "      <td>0</td>\n",
       "      <td>26</td>\n",
       "      <td>109.0</td>\n",
       "      <td>145.0</td>\n",
       "      <td>168.0</td>\n",
       "      <td>3.0</td>\n",
       "      <td>North Carolina State University</td>\n",
       "      <td>0.8970</td>\n",
       "    </tr>\n",
       "    <tr>\n",
       "      <th>15388</th>\n",
       "      <td>0</td>\n",
       "      <td>0</td>\n",
       "      <td>109.0</td>\n",
       "      <td>160.0</td>\n",
       "      <td>159.0</td>\n",
       "      <td>3.0</td>\n",
       "      <td>North Carolina State University</td>\n",
       "      <td>0.8600</td>\n",
       "    </tr>\n",
       "    <tr>\n",
       "      <th>15389</th>\n",
       "      <td>0</td>\n",
       "      <td>0</td>\n",
       "      <td>117.0</td>\n",
       "      <td>155.0</td>\n",
       "      <td>163.0</td>\n",
       "      <td>4.0</td>\n",
       "      <td>North Carolina State University</td>\n",
       "      <td>0.7200</td>\n",
       "    </tr>\n",
       "    <tr>\n",
       "      <th>15390</th>\n",
       "      <td>0</td>\n",
       "      <td>0</td>\n",
       "      <td>112.0</td>\n",
       "      <td>157.0</td>\n",
       "      <td>165.0</td>\n",
       "      <td>3.5</td>\n",
       "      <td>North Carolina State University</td>\n",
       "      <td>0.7300</td>\n",
       "    </tr>\n",
       "    <tr>\n",
       "      <th>15391</th>\n",
       "      <td>0</td>\n",
       "      <td>0</td>\n",
       "      <td>118.0</td>\n",
       "      <td>155.0</td>\n",
       "      <td>170.0</td>\n",
       "      <td>4.0</td>\n",
       "      <td>North Carolina State University</td>\n",
       "      <td>0.9950</td>\n",
       "    </tr>\n",
       "    <tr>\n",
       "      <th>...</th>\n",
       "      <td>...</td>\n",
       "      <td>...</td>\n",
       "      <td>...</td>\n",
       "      <td>...</td>\n",
       "      <td>...</td>\n",
       "      <td>...</td>\n",
       "      <td>...</td>\n",
       "      <td>...</td>\n",
       "    </tr>\n",
       "    <tr>\n",
       "      <th>16615</th>\n",
       "      <td>0</td>\n",
       "      <td>0</td>\n",
       "      <td>119.0</td>\n",
       "      <td>170.0</td>\n",
       "      <td>164.0</td>\n",
       "      <td>6.0</td>\n",
       "      <td>North Carolina State University</td>\n",
       "      <td>0.8000</td>\n",
       "    </tr>\n",
       "    <tr>\n",
       "      <th>16616</th>\n",
       "      <td>0</td>\n",
       "      <td>48</td>\n",
       "      <td>108.0</td>\n",
       "      <td>154.0</td>\n",
       "      <td>163.0</td>\n",
       "      <td>3.5</td>\n",
       "      <td>North Carolina State University</td>\n",
       "      <td>0.8280</td>\n",
       "    </tr>\n",
       "    <tr>\n",
       "      <th>16617</th>\n",
       "      <td>0</td>\n",
       "      <td>0</td>\n",
       "      <td>106.0</td>\n",
       "      <td>151.0</td>\n",
       "      <td>159.0</td>\n",
       "      <td>3.5</td>\n",
       "      <td>North Carolina State University</td>\n",
       "      <td>0.8724</td>\n",
       "    </tr>\n",
       "    <tr>\n",
       "      <th>16618</th>\n",
       "      <td>0</td>\n",
       "      <td>0</td>\n",
       "      <td>96.0</td>\n",
       "      <td>158.0</td>\n",
       "      <td>166.0</td>\n",
       "      <td>3.0</td>\n",
       "      <td>North Carolina State University</td>\n",
       "      <td>0.7770</td>\n",
       "    </tr>\n",
       "    <tr>\n",
       "      <th>16619</th>\n",
       "      <td>0</td>\n",
       "      <td>0</td>\n",
       "      <td>96.0</td>\n",
       "      <td>150.0</td>\n",
       "      <td>160.0</td>\n",
       "      <td>4.0</td>\n",
       "      <td>North Carolina State University</td>\n",
       "      <td>0.7200</td>\n",
       "    </tr>\n",
       "  </tbody>\n",
       "</table>\n",
       "<p>1233 rows × 8 columns</p>\n",
       "</div>"
      ],
      "text/plain": [
       "       researchExp  industryExp  toeflScore   greV   greQ  greA  \\\n",
       "15387            0           26       109.0  145.0  168.0   3.0   \n",
       "15388            0            0       109.0  160.0  159.0   3.0   \n",
       "15389            0            0       117.0  155.0  163.0   4.0   \n",
       "15390            0            0       112.0  157.0  165.0   3.5   \n",
       "15391            0            0       118.0  155.0  170.0   4.0   \n",
       "...            ...          ...         ...    ...    ...   ...   \n",
       "16615            0            0       119.0  170.0  164.0   6.0   \n",
       "16616            0           48       108.0  154.0  163.0   3.5   \n",
       "16617            0            0       106.0  151.0  159.0   3.5   \n",
       "16618            0            0        96.0  158.0  166.0   3.0   \n",
       "16619            0            0        96.0  150.0  160.0   4.0   \n",
       "\n",
       "                              univName  cgpaNorm  \n",
       "15387  North Carolina State University    0.8970  \n",
       "15388  North Carolina State University    0.8600  \n",
       "15389  North Carolina State University    0.7200  \n",
       "15390  North Carolina State University    0.7300  \n",
       "15391  North Carolina State University    0.9950  \n",
       "...                                ...       ...  \n",
       "16615  North Carolina State University    0.8000  \n",
       "16616  North Carolina State University    0.8280  \n",
       "16617  North Carolina State University    0.8724  \n",
       "16618  North Carolina State University    0.7770  \n",
       "16619  North Carolina State University    0.7200  \n",
       "\n",
       "[1233 rows x 8 columns]"
      ]
     },
     "execution_count": 18,
     "metadata": {},
     "output_type": "execute_result"
    }
   ],
   "source": [
    "df[df['univName'].str.lower() == 'north carolina state university']"
   ]
  },
  {
   "cell_type": "code",
   "execution_count": 19,
   "id": "c0e30566",
   "metadata": {},
   "outputs": [],
   "source": [
    "old_to_new = {\n",
    "    \"North Carolina State University\": \"North Carolina State University Raleigh\",\n",
    "    \"Texas A and M University College Station\": \"Texas A&M University College Station\",\n",
    "    \"Virginia Polytechnic Institute and State University\": \"Virginia Tech\",\n",
    "    \"Purdue University\": \"Purdue University West Lafayette\",\n",
    "    \"SUNY Buffalo\": \"University at Buffalo SUNY\",\n",
    "    \"Arizona State University\": \"Arizona State University Tempe\",\n",
    "    \"SUNY Stony Brook\": \"Stony Brook University SUNY\",\n",
    "    \"Rutgers University New Brunswick/Piscataway\": \"Rutgers University New Brunswick\"\n",
    "}\n",
    "\n",
    "df['univName'] = df['univName'].replace(old_to_new.keys(), old_to_new.values())"
   ]
  },
  {
   "cell_type": "code",
   "execution_count": 20,
   "id": "abd692fc",
   "metadata": {},
   "outputs": [
    {
     "data": {
      "text/plain": [
       "[]"
      ]
     },
     "execution_count": 20,
     "metadata": {},
     "output_type": "execute_result"
    }
   ],
   "source": [
    "top_300 = [x.replace(\"--\", \" \").lower() for x in top_df['name'].unique()]\n",
    "unis = [x.lower() for x in df['univName'].unique()]\n",
    "extras = list(set(unis) - set(top_300))\n",
    "extras"
   ]
  },
  {
   "cell_type": "code",
   "execution_count": 21,
   "id": "f3e5a585",
   "metadata": {},
   "outputs": [],
   "source": [
    "df.to_csv('../datasets/final_admission_data.csv', index=False)"
   ]
  },
  {
   "cell_type": "code",
   "execution_count": null,
   "id": "acdd092e",
   "metadata": {},
   "outputs": [],
   "source": []
  }
 ],
 "metadata": {
  "kernelspec": {
   "display_name": "ML",
   "language": "python",
   "name": "ml"
  },
  "language_info": {
   "codemirror_mode": {
    "name": "ipython",
    "version": 3
   },
   "file_extension": ".py",
   "mimetype": "text/x-python",
   "name": "python",
   "nbconvert_exporter": "python",
   "pygments_lexer": "ipython3",
   "version": "3.9.7"
  }
 },
 "nbformat": 4,
 "nbformat_minor": 5
}
