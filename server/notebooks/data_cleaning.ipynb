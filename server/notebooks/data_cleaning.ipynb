{
 "cells": [
  {
   "cell_type": "code",
   "execution_count": 1,
   "id": "52d54d92",
   "metadata": {},
   "outputs": [],
   "source": [
    "import numpy as np\n",
    "import pandas as pd\n",
    "import matplotlib.pyplot as plt\n",
    "import seaborn as sns"
   ]
  },
  {
   "cell_type": "markdown",
   "id": "5d3752b8",
   "metadata": {},
   "source": [
    "Steps in data cleaning\n",
    "- Remove unwanted columns\n",
    "- Keep universities with more than 10 admits\n",
    "- Keep majors with more than 10 entries\n",
    "- Normalize GPA\n",
    "- GRE score conversion\n",
    "- Feature importance"
   ]
  },
  {
   "cell_type": "code",
   "execution_count": 2,
   "id": "524fcd61",
   "metadata": {},
   "outputs": [
    {
     "data": {
      "text/html": [
       "<div>\n",
       "<style scoped>\n",
       "    .dataframe tbody tr th:only-of-type {\n",
       "        vertical-align: middle;\n",
       "    }\n",
       "\n",
       "    .dataframe tbody tr th {\n",
       "        vertical-align: top;\n",
       "    }\n",
       "\n",
       "    .dataframe thead th {\n",
       "        text-align: right;\n",
       "    }\n",
       "</style>\n",
       "<table border=\"1\" class=\"dataframe\">\n",
       "  <thead>\n",
       "    <tr style=\"text-align: right;\">\n",
       "      <th></th>\n",
       "      <th>userName</th>\n",
       "      <th>major</th>\n",
       "      <th>researchExp</th>\n",
       "      <th>industryExp</th>\n",
       "      <th>specialization</th>\n",
       "      <th>toeflScore</th>\n",
       "      <th>program</th>\n",
       "      <th>department</th>\n",
       "      <th>toeflEssay</th>\n",
       "      <th>internExp</th>\n",
       "      <th>...</th>\n",
       "      <th>termAndYear</th>\n",
       "      <th>confPubs</th>\n",
       "      <th>ugCollege</th>\n",
       "      <th>gmatA</th>\n",
       "      <th>cgpa</th>\n",
       "      <th>gmatQ</th>\n",
       "      <th>cgpaScale</th>\n",
       "      <th>gmatV</th>\n",
       "      <th>univName</th>\n",
       "      <th>admit</th>\n",
       "    </tr>\n",
       "  </thead>\n",
       "  <tbody>\n",
       "    <tr>\n",
       "      <th>0</th>\n",
       "      <td>143saf</td>\n",
       "      <td>Systems and Control</td>\n",
       "      <td>0</td>\n",
       "      <td>18</td>\n",
       "      <td>Robotics</td>\n",
       "      <td>112.0</td>\n",
       "      <td>MS</td>\n",
       "      <td>Instrumentation &amp; Control</td>\n",
       "      <td>26</td>\n",
       "      <td>5.0</td>\n",
       "      <td>...</td>\n",
       "      <td>Fall - 2015</td>\n",
       "      <td>0</td>\n",
       "      <td>Dharamsinh Desai University</td>\n",
       "      <td>NaN</td>\n",
       "      <td>8.50</td>\n",
       "      <td>NaN</td>\n",
       "      <td>10</td>\n",
       "      <td>NaN</td>\n",
       "      <td>Worcester Polytechnic Institute</td>\n",
       "      <td>1</td>\n",
       "    </tr>\n",
       "    <tr>\n",
       "      <th>1</th>\n",
       "      <td>7790ashish</td>\n",
       "      <td>Manufacturing Engineering</td>\n",
       "      <td>0</td>\n",
       "      <td>0</td>\n",
       "      <td>NaN</td>\n",
       "      <td>NaN</td>\n",
       "      <td>MS</td>\n",
       "      <td>0</td>\n",
       "      <td>NaN</td>\n",
       "      <td>0.0</td>\n",
       "      <td>...</td>\n",
       "      <td>Fall - 2013</td>\n",
       "      <td>0</td>\n",
       "      <td>NaN</td>\n",
       "      <td>NaN</td>\n",
       "      <td>0.00</td>\n",
       "      <td>NaN</td>\n",
       "      <td>0</td>\n",
       "      <td>NaN</td>\n",
       "      <td>Worcester Polytechnic Institute</td>\n",
       "      <td>1</td>\n",
       "    </tr>\n",
       "    <tr>\n",
       "      <th>2</th>\n",
       "      <td>AB25</td>\n",
       "      <td>(MIS / MSIM / MSIS / MSIT)</td>\n",
       "      <td>0</td>\n",
       "      <td>66</td>\n",
       "      <td>NaN</td>\n",
       "      <td>94.0</td>\n",
       "      <td>MS</td>\n",
       "      <td>Computer Engineering</td>\n",
       "      <td>21</td>\n",
       "      <td>0.0</td>\n",
       "      <td>...</td>\n",
       "      <td>Fall - 2015</td>\n",
       "      <td>0</td>\n",
       "      <td>IET DAVV</td>\n",
       "      <td>NaN</td>\n",
       "      <td>78.28</td>\n",
       "      <td>NaN</td>\n",
       "      <td>100</td>\n",
       "      <td>NaN</td>\n",
       "      <td>Worcester Polytechnic Institute</td>\n",
       "      <td>1</td>\n",
       "    </tr>\n",
       "    <tr>\n",
       "      <th>3</th>\n",
       "      <td>abhijitg</td>\n",
       "      <td>NaN</td>\n",
       "      <td>0</td>\n",
       "      <td>0</td>\n",
       "      <td>NaN</td>\n",
       "      <td>NaN</td>\n",
       "      <td>NaN</td>\n",
       "      <td>0</td>\n",
       "      <td>NaN</td>\n",
       "      <td>0.0</td>\n",
       "      <td>...</td>\n",
       "      <td>NaN</td>\n",
       "      <td>NaN</td>\n",
       "      <td>NaN</td>\n",
       "      <td>NaN</td>\n",
       "      <td>0.00</td>\n",
       "      <td>NaN</td>\n",
       "      <td>0</td>\n",
       "      <td>NaN</td>\n",
       "      <td>Worcester Polytechnic Institute</td>\n",
       "      <td>1</td>\n",
       "    </tr>\n",
       "    <tr>\n",
       "      <th>4</th>\n",
       "      <td>abhijitgang</td>\n",
       "      <td>MIS</td>\n",
       "      <td>0</td>\n",
       "      <td>0</td>\n",
       "      <td>NaN</td>\n",
       "      <td>81.0</td>\n",
       "      <td>MS</td>\n",
       "      <td>computer</td>\n",
       "      <td>NaN</td>\n",
       "      <td>0.0</td>\n",
       "      <td>...</td>\n",
       "      <td>Fall - 2011</td>\n",
       "      <td>0</td>\n",
       "      <td>Pune University</td>\n",
       "      <td>NaN</td>\n",
       "      <td>57.00</td>\n",
       "      <td>NaN</td>\n",
       "      <td>100</td>\n",
       "      <td>NaN</td>\n",
       "      <td>Worcester Polytechnic Institute</td>\n",
       "      <td>1</td>\n",
       "    </tr>\n",
       "  </tbody>\n",
       "</table>\n",
       "<p>5 rows × 26 columns</p>\n",
       "</div>"
      ],
      "text/plain": [
       "      userName                       major  researchExp  industryExp  \\\n",
       "0       143saf         Systems and Control            0           18   \n",
       "1   7790ashish   Manufacturing Engineering            0            0   \n",
       "2         AB25  (MIS / MSIM / MSIS / MSIT)            0           66   \n",
       "3     abhijitg                         NaN            0            0   \n",
       "4  abhijitgang                         MIS            0            0   \n",
       "\n",
       "  specialization  toeflScore program                 department toeflEssay  \\\n",
       "0       Robotics       112.0      MS  Instrumentation & Control         26   \n",
       "1            NaN         NaN      MS                          0        NaN   \n",
       "2            NaN        94.0      MS       Computer Engineering         21   \n",
       "3            NaN         NaN     NaN                          0        NaN   \n",
       "4            NaN        81.0      MS                   computer        NaN   \n",
       "\n",
       "   internExp  ...  termAndYear  confPubs                    ugCollege gmatA  \\\n",
       "0        5.0  ...  Fall - 2015         0  Dharamsinh Desai University   NaN   \n",
       "1        0.0  ...  Fall - 2013         0                          NaN   NaN   \n",
       "2        0.0  ...  Fall - 2015         0                     IET DAVV   NaN   \n",
       "3        0.0  ...          NaN       NaN                          NaN   NaN   \n",
       "4        0.0  ...  Fall - 2011         0              Pune University   NaN   \n",
       "\n",
       "    cgpa  gmatQ cgpaScale gmatV                         univName  admit  \n",
       "0   8.50    NaN        10   NaN  Worcester Polytechnic Institute      1  \n",
       "1   0.00    NaN         0   NaN  Worcester Polytechnic Institute      1  \n",
       "2  78.28    NaN       100   NaN  Worcester Polytechnic Institute      1  \n",
       "3   0.00    NaN         0   NaN  Worcester Polytechnic Institute      1  \n",
       "4  57.00    NaN       100   NaN  Worcester Polytechnic Institute      1  \n",
       "\n",
       "[5 rows x 26 columns]"
      ]
     },
     "execution_count": 2,
     "metadata": {},
     "output_type": "execute_result"
    }
   ],
   "source": [
    "data = pd.read_csv('../datasets/admission_data.csv')\n",
    "data.head()"
   ]
  },
  {
   "cell_type": "code",
   "execution_count": 3,
   "id": "bbda375f",
   "metadata": {},
   "outputs": [
    {
     "name": "stdout",
     "output_type": "stream",
     "text": [
      "<class 'pandas.core.frame.DataFrame'>\n",
      "RangeIndex: 53644 entries, 0 to 53643\n",
      "Data columns (total 26 columns):\n",
      " #   Column           Non-Null Count  Dtype  \n",
      "---  ------           --------------  -----  \n",
      " 0   userName         53644 non-null  object \n",
      " 1   major            53257 non-null  object \n",
      " 2   researchExp      53644 non-null  int64  \n",
      " 3   industryExp      53644 non-null  int64  \n",
      " 4   specialization   31949 non-null  object \n",
      " 5   toeflScore       49230 non-null  float64\n",
      " 6   program          53322 non-null  object \n",
      " 7   department       53643 non-null  object \n",
      " 8   toeflEssay       11874 non-null  object \n",
      " 9   internExp        53630 non-null  float64\n",
      " 10  greV             52388 non-null  float64\n",
      " 11  greQ             52424 non-null  float64\n",
      " 12  userProfileLink  53644 non-null  object \n",
      " 13  journalPubs      53322 non-null  object \n",
      " 14  greA             50786 non-null  float64\n",
      " 15  topperCgpa       53641 non-null  float64\n",
      " 16  termAndYear      53322 non-null  object \n",
      " 17  confPubs         53322 non-null  object \n",
      " 18  ugCollege        51366 non-null  object \n",
      " 19  gmatA            119 non-null    float64\n",
      " 20  cgpa             53644 non-null  float64\n",
      " 21  gmatQ            123 non-null    float64\n",
      " 22  cgpaScale        53644 non-null  int64  \n",
      " 23  gmatV            114 non-null    float64\n",
      " 24  univName         53644 non-null  object \n",
      " 25  admit            53644 non-null  int64  \n",
      "dtypes: float64(10), int64(4), object(12)\n",
      "memory usage: 10.6+ MB\n"
     ]
    }
   ],
   "source": [
    "data.info()"
   ]
  },
  {
   "cell_type": "code",
   "execution_count": 4,
   "id": "919acc93",
   "metadata": {},
   "outputs": [
    {
     "data": {
      "text/plain": [
       "<AxesSubplot:>"
      ]
     },
     "execution_count": 4,
     "metadata": {},
     "output_type": "execute_result"
    },
    {
     "data": {
      "image/png": "[encoded data removed]",
      "text/plain": [
       "<Figure size 864x576 with 1 Axes>"
      ]
     },
     "metadata": {
      "needs_background": "light"
     },
     "output_type": "display_data"
    }
   ],
   "source": [
    "plt.figure(figsize=(12,8))\n",
    "sns.heatmap(data.isnull(), cbar=False)"
   ]
  },
  {
   "cell_type": "markdown",
   "id": "b92d9f1c",
   "metadata": {},
   "source": [
    "There is very limited data regarding GMAT scores"
   ]
  },
  {
   "cell_type": "markdown",
   "id": "66f64f75",
   "metadata": {},
   "source": [
    "#### Removing unnecessary columns"
   ]
  },
  {
   "cell_type": "code",
   "execution_count": 5,
   "id": "4d3ad868",
   "metadata": {},
   "outputs": [
    {
     "data": {
      "text/plain": [
       "Index(['major', 'researchExp', 'industryExp', 'toeflScore', 'greV', 'greQ',\n",
       "       'greA', 'cgpa', 'cgpaScale', 'univName', 'admit'],\n",
       "      dtype='object')"
      ]
     },
     "execution_count": 5,
     "metadata": {},
     "output_type": "execute_result"
    }
   ],
   "source": [
    "# Dropping columns with many null values\n",
    "null_cols = ['gmatA', 'gmatQ', 'gmatV', 'toeflEssay', 'specialization']\n",
    "data.drop(null_cols, axis=1, inplace=True)\n",
    "\n",
    "# Dropping unnecessary columns\n",
    "unnecessary_cols = ['userName', 'userProfileLink', 'program', 'department', 'termAndYear', 'journalPubs', 'confPubs', 'internExp', 'topperCgpa', 'ugCollege']\n",
    "data.drop(unnecessary_cols, axis=1, inplace=True)\n",
    "\n",
    "data.columns"
   ]
  },
  {
   "cell_type": "markdown",
   "id": "0b62df93",
   "metadata": {},
   "source": [
    "#### Removing unnecessary rows"
   ]
  },
  {
   "cell_type": "code",
   "execution_count": 6,
   "id": "a2186061",
   "metadata": {},
   "outputs": [],
   "source": [
    "# Keep only admit rows\n",
    "data = data[data['admit'] == 1]\n",
    "data.drop('admit', axis=1, inplace=True)"
   ]
  },
  {
   "cell_type": "code",
   "execution_count": 7,
   "id": "83cd4956",
   "metadata": {},
   "outputs": [
    {
     "data": {
      "text/plain": [
       "University of Texas Dallas                             2531\n",
       "Arizona State University                               2122\n",
       "SUNY Buffalo                                           1547\n",
       "North Carolina State University                        1504\n",
       "University of Southern California                      1409\n",
       "Northeastern University                                1332\n",
       "University of Illinois Chicago                         1280\n",
       "University of Florida                                  1125\n",
       "Carnegie Mellon University                              878\n",
       "Syracuse University                                     867\n",
       "University of Texas Arlington                           860\n",
       "University of North Carolina Charlotte                  800\n",
       "University of Cincinnati                                798\n",
       "Texas A and M University College Station                790\n",
       "SUNY Stony Brook                                        672\n",
       "University of Arizona                                   672\n",
       "University of Maryland College Park                     567\n",
       "Georgia Institute of Technology                         561\n",
       "University of Minnesota Twin Cities                     498\n",
       "New Jersey Institute of Technology                      491\n",
       "Clemson University                                      431\n",
       "Ohio State University Columbus                          397\n",
       "University of Colorado Boulder                          389\n",
       "George Mason University                                 370\n",
       "University of California Irvine                         353\n",
       "University of Utah                                      311\n",
       "Virginia Polytechnic Institute and State University     303\n",
       "New York University                                     297\n",
       "University of Pennsylvania                              285\n",
       "Purdue University                                       284\n",
       "University of Michigan Ann Arbor                        279\n",
       "Cornell University                                      258\n",
       "University of Massachusetts Amherst                     254\n",
       "University of Washington                                252\n",
       "Rutgers University New Brunswick/Piscataway             240\n",
       "Columbia University                                     227\n",
       "University of Wisconsin Madison                         224\n",
       "University of Illinois Urbana-Champaign                 223\n",
       "University of Texas Austin                              162\n",
       "Wayne State University                                  159\n",
       "University of California San Diego                      149\n",
       "University of California Los Angeles                    146\n",
       "University of California Santa Barbara                  135\n",
       "Johns Hopkins University                                111\n",
       "Worcester Polytechnic Institute                         103\n",
       "University of California Davis                           68\n",
       "Northwestern University                                  61\n",
       "Stanford University                                      49\n",
       "University of California Santa Cruz                      48\n",
       "University of North Carolina Chapel Hill                 31\n",
       "California Institute of Technology                       24\n",
       "Massachusetts Institute of Technology                    16\n",
       "Name: univName, dtype: int64"
      ]
     },
     "execution_count": 7,
     "metadata": {},
     "output_type": "execute_result"
    }
   ],
   "source": [
    "# Keep universities with more than 10 admits\n",
    "data = data.groupby('univName').filter(lambda x: len(x) > 10)\n",
    "data['univName'].value_counts()"
   ]
  },
  {
   "cell_type": "code",
   "execution_count": 8,
   "id": "22b49c84",
   "metadata": {},
   "outputs": [
    {
     "name": "stdout",
     "output_type": "stream",
     "text": [
      "235\n",
      "35\n"
     ]
    },
    {
     "data": {
      "text/plain": [
       "array(['(MIS / MSIM / MSIS / MSIT)', 'MIS',\n",
       "       'MIS-management related courses', 'Computer Science',\n",
       "       'Mechanical Engineering', 'Electronics and Communication',\n",
       "       'Information Systems', 'Human Computer Interaction',\n",
       "       'Electrical Engineering', 'Information Technology',\n",
       "       'Computer Engineering',\n",
       "       'Computer Engineering / Computer Networking / Computer Science',\n",
       "       'Telecommunication', 'Management Information System',\n",
       "       'Industrial Engineering', 'Engineering Management',\n",
       "       'Biomedical Engineering', 'Electrical and Computer Engineering',\n",
       "       'Electrical Engg/ comp engg', 'CS / MSIS / ITM',\n",
       "       'Civil Engineering', 'Aerospace Engineering',\n",
       "       'Electrical & Computer Engineering', 'Bioinformatics',\n",
       "       'Electrical and computer science', 'Chemical Engineering',\n",
       "       'Electronics & Communication', 'Materials Science & Engineering',\n",
       "       'Information Science', 'Electrical and Electronics',\n",
       "       'Comp Science/Comp Networks/Comp Engg', 'Business Analytics', 'CS',\n",
       "       'Biotechnology', 'Information Security'], dtype=object)"
      ]
     },
     "execution_count": 8,
     "metadata": {},
     "output_type": "execute_result"
    }
   ],
   "source": [
    "# Keep majors with more than 50 entries\n",
    "print(data['major'].nunique())\n",
    "data = data.groupby('major').filter(lambda x: len(x) > 50)\n",
    "print(data['major'].nunique())\n",
    "data['major'].unique()"
   ]
  },
  {
   "cell_type": "markdown",
   "id": "68f4b7b2",
   "metadata": {},
   "source": [
    "#### Normalize CGPA"
   ]
  },
  {
   "cell_type": "code",
   "execution_count": 9,
   "id": "5f41aecb",
   "metadata": {},
   "outputs": [],
   "source": [
    "data = data[data['cgpa'] < data['cgpaScale']]"
   ]
  },
  {
   "cell_type": "code",
   "execution_count": 10,
   "id": "9e02aee4",
   "metadata": {},
   "outputs": [],
   "source": [
    "data['cgpaNorm'] = data['cgpa']/data['cgpaScale']\n",
    "data['cgpaNorm'].fillna(0, inplace=True)"
   ]
  },
  {
   "cell_type": "code",
   "execution_count": 11,
   "id": "b756d45d",
   "metadata": {},
   "outputs": [],
   "source": [
    "data.drop(['cgpa', 'cgpaScale'], axis=1, inplace=True)"
   ]
  },
  {
   "cell_type": "markdown",
   "id": "e932a2c7",
   "metadata": {},
   "source": [
    "#### Convert GRE old scores to new scores"
   ]
  },
  {
   "cell_type": "code",
   "execution_count": 12,
   "id": "ae7ae843",
   "metadata": {},
   "outputs": [
    {
     "data": {
      "text/html": [
       "<div>\n",
       "<style scoped>\n",
       "    .dataframe tbody tr th:only-of-type {\n",
       "        vertical-align: middle;\n",
       "    }\n",
       "\n",
       "    .dataframe tbody tr th {\n",
       "        vertical-align: top;\n",
       "    }\n",
       "\n",
       "    .dataframe thead th {\n",
       "        text-align: right;\n",
       "    }\n",
       "</style>\n",
       "<table border=\"1\" class=\"dataframe\">\n",
       "  <thead>\n",
       "    <tr style=\"text-align: right;\">\n",
       "      <th></th>\n",
       "      <th>newQ</th>\n",
       "      <th>newV</th>\n",
       "    </tr>\n",
       "    <tr>\n",
       "      <th>old</th>\n",
       "      <th></th>\n",
       "      <th></th>\n",
       "    </tr>\n",
       "  </thead>\n",
       "  <tbody>\n",
       "    <tr>\n",
       "      <th>800</th>\n",
       "      <td>166</td>\n",
       "      <td>170</td>\n",
       "    </tr>\n",
       "    <tr>\n",
       "      <th>790</th>\n",
       "      <td>164</td>\n",
       "      <td>170</td>\n",
       "    </tr>\n",
       "    <tr>\n",
       "      <th>780</th>\n",
       "      <td>163</td>\n",
       "      <td>170</td>\n",
       "    </tr>\n",
       "    <tr>\n",
       "      <th>770</th>\n",
       "      <td>161</td>\n",
       "      <td>170</td>\n",
       "    </tr>\n",
       "    <tr>\n",
       "      <th>760</th>\n",
       "      <td>160</td>\n",
       "      <td>170</td>\n",
       "    </tr>\n",
       "  </tbody>\n",
       "</table>\n",
       "</div>"
      ],
      "text/plain": [
       "     newQ  newV\n",
       "old            \n",
       "800   166   170\n",
       "790   164   170\n",
       "780   163   170\n",
       "770   161   170\n",
       "760   160   170"
      ]
     },
     "execution_count": 12,
     "metadata": {},
     "output_type": "execute_result"
    }
   ],
   "source": [
    "score_table = pd.read_csv('../datasets/score.csv', index_col='old')\n",
    "score_table.head()"
   ]
  },
  {
   "cell_type": "code",
   "execution_count": 13,
   "id": "c9876026",
   "metadata": {},
   "outputs": [],
   "source": [
    "def updateGre(score, col):\n",
    "    if(score > 170):\n",
    "        try:\n",
    "            newScore = score_table[col][score]\n",
    "        except:\n",
    "            newScore = None\n",
    "        return newScore\n",
    "    else:\n",
    "        return score\n",
    "        "
   ]
  },
  {
   "cell_type": "code",
   "execution_count": 14,
   "id": "abd55631",
   "metadata": {},
   "outputs": [],
   "source": [
    "data['greV'] = data['greV'].apply(updateGre, col='newV')\n",
    "data['greQ'] = data['greQ'].apply(updateGre, col='newQ')"
   ]
  },
  {
   "cell_type": "code",
   "execution_count": 15,
   "id": "b7ef611d",
   "metadata": {},
   "outputs": [],
   "source": [
    "# Current max. score in GRE for each section is 170\n",
    "data = data[data['greV']<=170]\n",
    "data = data[data['greQ']<=170]\n",
    "# Current min. score in GRE for each section is 130\n",
    "data = data[data['greV']>=130]\n",
    "data = data[data['greQ']>=130]\n",
    "\n",
    "# For Analytical Writing max. score is 6.0\n",
    "data = data[data['greA']<=6.0]\n",
    "\n",
    "# Max. score in TOEFL is 120\n",
    "data = data[data['toeflScore']<=120]\n",
    "# Min. score in TOEFL is 60\n",
    "data = data[data['toeflScore']>=60]"
   ]
  },
  {
   "cell_type": "code",
   "execution_count": 16,
   "id": "60f0cd93",
   "metadata": {},
   "outputs": [
    {
     "data": {
      "text/plain": [
       "(20864, 9)"
      ]
     },
     "execution_count": 16,
     "metadata": {},
     "output_type": "execute_result"
    }
   ],
   "source": [
    "data.shape"
   ]
  },
  {
   "cell_type": "markdown",
   "id": "ba7946fb",
   "metadata": {},
   "source": [
    "#### Drop null columns"
   ]
  },
  {
   "cell_type": "code",
   "execution_count": 17,
   "id": "b41777dc",
   "metadata": {
    "scrolled": true
   },
   "outputs": [
    {
     "name": "stdout",
     "output_type": "stream",
     "text": [
      "Number of columns dropped: 0\n"
     ]
    }
   ],
   "source": [
    "df = data.dropna()\n",
    "print(\"Number of columns dropped:\", data.shape[0] - df.shape[0])"
   ]
  },
  {
   "cell_type": "code",
   "execution_count": 18,
   "id": "2899d206",
   "metadata": {},
   "outputs": [
    {
     "data": {
      "text/plain": [
       "<AxesSubplot:>"
      ]
     },
     "execution_count": 18,
     "metadata": {},
     "output_type": "execute_result"
    },
    {
     "data": {
      "image/png": "[encoded data removed]",
      "text/plain": [
       "<Figure size 864x576 with 1 Axes>"
      ]
     },
     "metadata": {
      "needs_background": "light"
     },
     "output_type": "display_data"
    }
   ],
   "source": [
    "plt.figure(figsize=(12,8))\n",
    "sns.heatmap(df.isnull(), cbar=False)"
   ]
  },
  {
   "cell_type": "code",
   "execution_count": 19,
   "id": "eca00ae7",
   "metadata": {},
   "outputs": [
    {
     "name": "stdout",
     "output_type": "stream",
     "text": [
      "<class 'pandas.core.frame.DataFrame'>\n",
      "Int64Index: 20864 entries, 2 to 52589\n",
      "Data columns (total 9 columns):\n",
      " #   Column       Non-Null Count  Dtype  \n",
      "---  ------       --------------  -----  \n",
      " 0   major        20864 non-null  object \n",
      " 1   researchExp  20864 non-null  int64  \n",
      " 2   industryExp  20864 non-null  int64  \n",
      " 3   toeflScore   20864 non-null  float64\n",
      " 4   greV         20864 non-null  float64\n",
      " 5   greQ         20864 non-null  float64\n",
      " 6   greA         20864 non-null  float64\n",
      " 7   univName     20864 non-null  object \n",
      " 8   cgpaNorm     20864 non-null  float64\n",
      "dtypes: float64(5), int64(2), object(2)\n",
      "memory usage: 1.6+ MB\n"
     ]
    }
   ],
   "source": [
    "df.info()"
   ]
  },
  {
   "cell_type": "markdown",
   "id": "6f49db24",
   "metadata": {},
   "source": [
    "#### Feature importance"
   ]
  },
  {
   "cell_type": "code",
   "execution_count": 20,
   "id": "597d4c7e",
   "metadata": {},
   "outputs": [],
   "source": [
    "# one hot encoding the University names which is the target variable\n",
    "y = df['univName']\n",
    "Y = pd.get_dummies(y)\n",
    "\n",
    "# Drop university name from dependent variable and one hot encode major \n",
    "x = df.drop('univName',axis=1);\n",
    "X = pd.get_dummies(x)"
   ]
  },
  {
   "cell_type": "code",
   "execution_count": 21,
   "id": "d961f74f",
   "metadata": {},
   "outputs": [
    {
     "data": {
      "text/html": [
       "<div>\n",
       "<style scoped>\n",
       "    .dataframe tbody tr th:only-of-type {\n",
       "        vertical-align: middle;\n",
       "    }\n",
       "\n",
       "    .dataframe tbody tr th {\n",
       "        vertical-align: top;\n",
       "    }\n",
       "\n",
       "    .dataframe thead th {\n",
       "        text-align: right;\n",
       "    }\n",
       "</style>\n",
       "<table border=\"1\" class=\"dataframe\">\n",
       "  <thead>\n",
       "    <tr style=\"text-align: right;\">\n",
       "      <th></th>\n",
       "      <th>researchExp</th>\n",
       "      <th>industryExp</th>\n",
       "      <th>toeflScore</th>\n",
       "      <th>greV</th>\n",
       "      <th>greQ</th>\n",
       "      <th>greA</th>\n",
       "      <th>cgpaNorm</th>\n",
       "      <th>major_(MIS / MSIM / MSIS / MSIT)</th>\n",
       "      <th>major_Aerospace Engineering</th>\n",
       "      <th>major_Bioinformatics</th>\n",
       "      <th>...</th>\n",
       "      <th>major_Information Science</th>\n",
       "      <th>major_Information Security</th>\n",
       "      <th>major_Information Systems</th>\n",
       "      <th>major_Information Technology</th>\n",
       "      <th>major_MIS</th>\n",
       "      <th>major_MIS-management related courses</th>\n",
       "      <th>major_Management Information System</th>\n",
       "      <th>major_Materials Science &amp; Engineering</th>\n",
       "      <th>major_Mechanical Engineering</th>\n",
       "      <th>major_Telecommunication</th>\n",
       "    </tr>\n",
       "  </thead>\n",
       "  <tbody>\n",
       "    <tr>\n",
       "      <th>count</th>\n",
       "      <td>20864.000000</td>\n",
       "      <td>20864.000000</td>\n",
       "      <td>20864.000000</td>\n",
       "      <td>20864.000000</td>\n",
       "      <td>20864.000000</td>\n",
       "      <td>20864.000000</td>\n",
       "      <td>20864.000000</td>\n",
       "      <td>20864.000000</td>\n",
       "      <td>20864.000000</td>\n",
       "      <td>20864.000000</td>\n",
       "      <td>...</td>\n",
       "      <td>20864.000000</td>\n",
       "      <td>20864.000000</td>\n",
       "      <td>20864.000000</td>\n",
       "      <td>20864.000000</td>\n",
       "      <td>20864.000000</td>\n",
       "      <td>20864.000000</td>\n",
       "      <td>20864.000000</td>\n",
       "      <td>20864.000000</td>\n",
       "      <td>20864.000000</td>\n",
       "      <td>20864.000000</td>\n",
       "    </tr>\n",
       "    <tr>\n",
       "      <th>mean</th>\n",
       "      <td>0.317916</td>\n",
       "      <td>3.538823</td>\n",
       "      <td>105.447421</td>\n",
       "      <td>154.624664</td>\n",
       "      <td>162.499329</td>\n",
       "      <td>3.611202</td>\n",
       "      <td>0.768987</td>\n",
       "      <td>0.005991</td>\n",
       "      <td>0.008148</td>\n",
       "      <td>0.002636</td>\n",
       "      <td>...</td>\n",
       "      <td>0.001773</td>\n",
       "      <td>0.004122</td>\n",
       "      <td>0.009538</td>\n",
       "      <td>0.001965</td>\n",
       "      <td>0.115127</td>\n",
       "      <td>0.005176</td>\n",
       "      <td>0.007717</td>\n",
       "      <td>0.002301</td>\n",
       "      <td>0.052291</td>\n",
       "      <td>0.009394</td>\n",
       "    </tr>\n",
       "    <tr>\n",
       "      <th>std</th>\n",
       "      <td>2.532673</td>\n",
       "      <td>11.123669</td>\n",
       "      <td>7.588290</td>\n",
       "      <td>6.206390</td>\n",
       "      <td>4.166972</td>\n",
       "      <td>0.566308</td>\n",
       "      <td>0.124441</td>\n",
       "      <td>0.077172</td>\n",
       "      <td>0.089900</td>\n",
       "      <td>0.051277</td>\n",
       "      <td>...</td>\n",
       "      <td>0.042075</td>\n",
       "      <td>0.064071</td>\n",
       "      <td>0.097198</td>\n",
       "      <td>0.044287</td>\n",
       "      <td>0.319182</td>\n",
       "      <td>0.071762</td>\n",
       "      <td>0.087507</td>\n",
       "      <td>0.047911</td>\n",
       "      <td>0.222619</td>\n",
       "      <td>0.096470</td>\n",
       "    </tr>\n",
       "    <tr>\n",
       "      <th>min</th>\n",
       "      <td>0.000000</td>\n",
       "      <td>0.000000</td>\n",
       "      <td>65.000000</td>\n",
       "      <td>130.000000</td>\n",
       "      <td>136.000000</td>\n",
       "      <td>1.500000</td>\n",
       "      <td>0.000000</td>\n",
       "      <td>0.000000</td>\n",
       "      <td>0.000000</td>\n",
       "      <td>0.000000</td>\n",
       "      <td>...</td>\n",
       "      <td>0.000000</td>\n",
       "      <td>0.000000</td>\n",
       "      <td>0.000000</td>\n",
       "      <td>0.000000</td>\n",
       "      <td>0.000000</td>\n",
       "      <td>0.000000</td>\n",
       "      <td>0.000000</td>\n",
       "      <td>0.000000</td>\n",
       "      <td>0.000000</td>\n",
       "      <td>0.000000</td>\n",
       "    </tr>\n",
       "    <tr>\n",
       "      <th>25%</th>\n",
       "      <td>0.000000</td>\n",
       "      <td>0.000000</td>\n",
       "      <td>101.000000</td>\n",
       "      <td>150.000000</td>\n",
       "      <td>160.000000</td>\n",
       "      <td>3.000000</td>\n",
       "      <td>0.706800</td>\n",
       "      <td>0.000000</td>\n",
       "      <td>0.000000</td>\n",
       "      <td>0.000000</td>\n",
       "      <td>...</td>\n",
       "      <td>0.000000</td>\n",
       "      <td>0.000000</td>\n",
       "      <td>0.000000</td>\n",
       "      <td>0.000000</td>\n",
       "      <td>0.000000</td>\n",
       "      <td>0.000000</td>\n",
       "      <td>0.000000</td>\n",
       "      <td>0.000000</td>\n",
       "      <td>0.000000</td>\n",
       "      <td>0.000000</td>\n",
       "    </tr>\n",
       "    <tr>\n",
       "      <th>50%</th>\n",
       "      <td>0.000000</td>\n",
       "      <td>0.000000</td>\n",
       "      <td>106.000000</td>\n",
       "      <td>155.000000</td>\n",
       "      <td>163.000000</td>\n",
       "      <td>3.500000</td>\n",
       "      <td>0.780000</td>\n",
       "      <td>0.000000</td>\n",
       "      <td>0.000000</td>\n",
       "      <td>0.000000</td>\n",
       "      <td>...</td>\n",
       "      <td>0.000000</td>\n",
       "      <td>0.000000</td>\n",
       "      <td>0.000000</td>\n",
       "      <td>0.000000</td>\n",
       "      <td>0.000000</td>\n",
       "      <td>0.000000</td>\n",
       "      <td>0.000000</td>\n",
       "      <td>0.000000</td>\n",
       "      <td>0.000000</td>\n",
       "      <td>0.000000</td>\n",
       "    </tr>\n",
       "    <tr>\n",
       "      <th>75%</th>\n",
       "      <td>0.000000</td>\n",
       "      <td>0.000000</td>\n",
       "      <td>111.000000</td>\n",
       "      <td>159.000000</td>\n",
       "      <td>166.000000</td>\n",
       "      <td>4.000000</td>\n",
       "      <td>0.850000</td>\n",
       "      <td>0.000000</td>\n",
       "      <td>0.000000</td>\n",
       "      <td>0.000000</td>\n",
       "      <td>...</td>\n",
       "      <td>0.000000</td>\n",
       "      <td>0.000000</td>\n",
       "      <td>0.000000</td>\n",
       "      <td>0.000000</td>\n",
       "      <td>0.000000</td>\n",
       "      <td>0.000000</td>\n",
       "      <td>0.000000</td>\n",
       "      <td>0.000000</td>\n",
       "      <td>0.000000</td>\n",
       "      <td>0.000000</td>\n",
       "    </tr>\n",
       "    <tr>\n",
       "      <th>max</th>\n",
       "      <td>53.000000</td>\n",
       "      <td>126.000000</td>\n",
       "      <td>120.000000</td>\n",
       "      <td>170.000000</td>\n",
       "      <td>170.000000</td>\n",
       "      <td>6.000000</td>\n",
       "      <td>0.998000</td>\n",
       "      <td>1.000000</td>\n",
       "      <td>1.000000</td>\n",
       "      <td>1.000000</td>\n",
       "      <td>...</td>\n",
       "      <td>1.000000</td>\n",
       "      <td>1.000000</td>\n",
       "      <td>1.000000</td>\n",
       "      <td>1.000000</td>\n",
       "      <td>1.000000</td>\n",
       "      <td>1.000000</td>\n",
       "      <td>1.000000</td>\n",
       "      <td>1.000000</td>\n",
       "      <td>1.000000</td>\n",
       "      <td>1.000000</td>\n",
       "    </tr>\n",
       "  </tbody>\n",
       "</table>\n",
       "<p>8 rows × 42 columns</p>\n",
       "</div>"
      ],
      "text/plain": [
       "        researchExp   industryExp    toeflScore          greV          greQ  \\\n",
       "count  20864.000000  20864.000000  20864.000000  20864.000000  20864.000000   \n",
       "mean       0.317916      3.538823    105.447421    154.624664    162.499329   \n",
       "std        2.532673     11.123669      7.588290      6.206390      4.166972   \n",
       "min        0.000000      0.000000     65.000000    130.000000    136.000000   \n",
       "25%        0.000000      0.000000    101.000000    150.000000    160.000000   \n",
       "50%        0.000000      0.000000    106.000000    155.000000    163.000000   \n",
       "75%        0.000000      0.000000    111.000000    159.000000    166.000000   \n",
       "max       53.000000    126.000000    120.000000    170.000000    170.000000   \n",
       "\n",
       "               greA      cgpaNorm  major_(MIS / MSIM / MSIS / MSIT)  \\\n",
       "count  20864.000000  20864.000000                      20864.000000   \n",
       "mean       3.611202      0.768987                          0.005991   \n",
       "std        0.566308      0.124441                          0.077172   \n",
       "min        1.500000      0.000000                          0.000000   \n",
       "25%        3.000000      0.706800                          0.000000   \n",
       "50%        3.500000      0.780000                          0.000000   \n",
       "75%        4.000000      0.850000                          0.000000   \n",
       "max        6.000000      0.998000                          1.000000   \n",
       "\n",
       "       major_Aerospace Engineering  major_Bioinformatics  ...  \\\n",
       "count                 20864.000000          20864.000000  ...   \n",
       "mean                      0.008148              0.002636  ...   \n",
       "std                       0.089900              0.051277  ...   \n",
       "min                       0.000000              0.000000  ...   \n",
       "25%                       0.000000              0.000000  ...   \n",
       "50%                       0.000000              0.000000  ...   \n",
       "75%                       0.000000              0.000000  ...   \n",
       "max                       1.000000              1.000000  ...   \n",
       "\n",
       "       major_Information Science  major_Information Security  \\\n",
       "count               20864.000000                20864.000000   \n",
       "mean                    0.001773                    0.004122   \n",
       "std                     0.042075                    0.064071   \n",
       "min                     0.000000                    0.000000   \n",
       "25%                     0.000000                    0.000000   \n",
       "50%                     0.000000                    0.000000   \n",
       "75%                     0.000000                    0.000000   \n",
       "max                     1.000000                    1.000000   \n",
       "\n",
       "       major_Information Systems  major_Information Technology     major_MIS  \\\n",
       "count               20864.000000                  20864.000000  20864.000000   \n",
       "mean                    0.009538                      0.001965      0.115127   \n",
       "std                     0.097198                      0.044287      0.319182   \n",
       "min                     0.000000                      0.000000      0.000000   \n",
       "25%                     0.000000                      0.000000      0.000000   \n",
       "50%                     0.000000                      0.000000      0.000000   \n",
       "75%                     0.000000                      0.000000      0.000000   \n",
       "max                     1.000000                      1.000000      1.000000   \n",
       "\n",
       "       major_MIS-management related courses  \\\n",
       "count                          20864.000000   \n",
       "mean                               0.005176   \n",
       "std                                0.071762   \n",
       "min                                0.000000   \n",
       "25%                                0.000000   \n",
       "50%                                0.000000   \n",
       "75%                                0.000000   \n",
       "max                                1.000000   \n",
       "\n",
       "       major_Management Information System  \\\n",
       "count                         20864.000000   \n",
       "mean                              0.007717   \n",
       "std                               0.087507   \n",
       "min                               0.000000   \n",
       "25%                               0.000000   \n",
       "50%                               0.000000   \n",
       "75%                               0.000000   \n",
       "max                               1.000000   \n",
       "\n",
       "       major_Materials Science & Engineering  major_Mechanical Engineering  \\\n",
       "count                           20864.000000                  20864.000000   \n",
       "mean                                0.002301                      0.052291   \n",
       "std                                 0.047911                      0.222619   \n",
       "min                                 0.000000                      0.000000   \n",
       "25%                                 0.000000                      0.000000   \n",
       "50%                                 0.000000                      0.000000   \n",
       "75%                                 0.000000                      0.000000   \n",
       "max                                 1.000000                      1.000000   \n",
       "\n",
       "       major_Telecommunication  \n",
       "count             20864.000000  \n",
       "mean                  0.009394  \n",
       "std                   0.096470  \n",
       "min                   0.000000  \n",
       "25%                   0.000000  \n",
       "50%                   0.000000  \n",
       "75%                   0.000000  \n",
       "max                   1.000000  \n",
       "\n",
       "[8 rows x 42 columns]"
      ]
     },
     "execution_count": 21,
     "metadata": {},
     "output_type": "execute_result"
    }
   ],
   "source": [
    "X.describe()"
   ]
  },
  {
   "cell_type": "code",
   "execution_count": 22,
   "id": "53780aac",
   "metadata": {},
   "outputs": [
    {
     "data": {
      "text/plain": [
       "ExtraTreesClassifier()"
      ]
     },
     "execution_count": 22,
     "metadata": {},
     "output_type": "execute_result"
    }
   ],
   "source": [
    "from sklearn.ensemble import ExtraTreesClassifier\n",
    "\n",
    "model = ExtraTreesClassifier()\n",
    "model.fit(X,Y)"
   ]
  },
  {
   "cell_type": "code",
   "execution_count": 23,
   "id": "ca4c50fa",
   "metadata": {},
   "outputs": [
    {
     "data": {
      "text/plain": [
       "<AxesSubplot:>"
      ]
     },
     "execution_count": 23,
     "metadata": {},
     "output_type": "execute_result"
    },
    {
     "data": {
      "image/png": "[encoded data removed]",
      "text/plain": [
       "<Figure size 576x576 with 1 Axes>"
      ]
     },
     "metadata": {
      "needs_background": "light"
     },
     "output_type": "display_data"
    }
   ],
   "source": [
    "imp_features = pd.Series(model.feature_importances_, index=X.columns)\n",
    "imp_features.nlargest(15).plot(kind='barh',figsize=(8,8))"
   ]
  },
  {
   "cell_type": "code",
   "execution_count": 24,
   "id": "707de285",
   "metadata": {},
   "outputs": [
    {
     "data": {
      "text/html": [
       "<div>\n",
       "<style scoped>\n",
       "    .dataframe tbody tr th:only-of-type {\n",
       "        vertical-align: middle;\n",
       "    }\n",
       "\n",
       "    .dataframe tbody tr th {\n",
       "        vertical-align: top;\n",
       "    }\n",
       "\n",
       "    .dataframe thead th {\n",
       "        text-align: right;\n",
       "    }\n",
       "</style>\n",
       "<table border=\"1\" class=\"dataframe\">\n",
       "  <thead>\n",
       "    <tr style=\"text-align: right;\">\n",
       "      <th></th>\n",
       "      <th>major</th>\n",
       "      <th>researchExp</th>\n",
       "      <th>industryExp</th>\n",
       "      <th>toeflScore</th>\n",
       "      <th>greV</th>\n",
       "      <th>greQ</th>\n",
       "      <th>greA</th>\n",
       "      <th>univName</th>\n",
       "      <th>cgpaNorm</th>\n",
       "    </tr>\n",
       "  </thead>\n",
       "  <tbody>\n",
       "    <tr>\n",
       "      <th>2</th>\n",
       "      <td>(MIS / MSIM / MSIS / MSIT)</td>\n",
       "      <td>0</td>\n",
       "      <td>66</td>\n",
       "      <td>94.0</td>\n",
       "      <td>146.0</td>\n",
       "      <td>157.0</td>\n",
       "      <td>3.0</td>\n",
       "      <td>Worcester Polytechnic Institute</td>\n",
       "      <td>0.7828</td>\n",
       "    </tr>\n",
       "    <tr>\n",
       "      <th>4</th>\n",
       "      <td>MIS</td>\n",
       "      <td>0</td>\n",
       "      <td>0</td>\n",
       "      <td>81.0</td>\n",
       "      <td>148.0</td>\n",
       "      <td>161.0</td>\n",
       "      <td>2.5</td>\n",
       "      <td>Worcester Polytechnic Institute</td>\n",
       "      <td>0.5700</td>\n",
       "    </tr>\n",
       "    <tr>\n",
       "      <th>6</th>\n",
       "      <td>MIS</td>\n",
       "      <td>0</td>\n",
       "      <td>0</td>\n",
       "      <td>104.0</td>\n",
       "      <td>150.0</td>\n",
       "      <td>161.0</td>\n",
       "      <td>4.5</td>\n",
       "      <td>Worcester Polytechnic Institute</td>\n",
       "      <td>0.6220</td>\n",
       "    </tr>\n",
       "    <tr>\n",
       "      <th>7</th>\n",
       "      <td>MIS-management related courses</td>\n",
       "      <td>0</td>\n",
       "      <td>0</td>\n",
       "      <td>95.0</td>\n",
       "      <td>147.0</td>\n",
       "      <td>156.0</td>\n",
       "      <td>3.0</td>\n",
       "      <td>Worcester Polytechnic Institute</td>\n",
       "      <td>0.5200</td>\n",
       "    </tr>\n",
       "    <tr>\n",
       "      <th>8</th>\n",
       "      <td>MIS</td>\n",
       "      <td>0</td>\n",
       "      <td>0</td>\n",
       "      <td>101.0</td>\n",
       "      <td>152.0</td>\n",
       "      <td>158.0</td>\n",
       "      <td>3.0</td>\n",
       "      <td>Worcester Polytechnic Institute</td>\n",
       "      <td>0.6400</td>\n",
       "    </tr>\n",
       "  </tbody>\n",
       "</table>\n",
       "</div>"
      ],
      "text/plain": [
       "                            major  researchExp  industryExp  toeflScore  \\\n",
       "2      (MIS / MSIM / MSIS / MSIT)            0           66        94.0   \n",
       "4                             MIS            0            0        81.0   \n",
       "6                             MIS            0            0       104.0   \n",
       "7  MIS-management related courses            0            0        95.0   \n",
       "8                             MIS            0            0       101.0   \n",
       "\n",
       "    greV   greQ  greA                         univName  cgpaNorm  \n",
       "2  146.0  157.0   3.0  Worcester Polytechnic Institute    0.7828  \n",
       "4  148.0  161.0   2.5  Worcester Polytechnic Institute    0.5700  \n",
       "6  150.0  161.0   4.5  Worcester Polytechnic Institute    0.6220  \n",
       "7  147.0  156.0   3.0  Worcester Polytechnic Institute    0.5200  \n",
       "8  152.0  158.0   3.0  Worcester Polytechnic Institute    0.6400  "
      ]
     },
     "execution_count": 24,
     "metadata": {},
     "output_type": "execute_result"
    }
   ],
   "source": [
    "df.head()"
   ]
  },
  {
   "cell_type": "code",
   "execution_count": 25,
   "id": "9662cb49",
   "metadata": {},
   "outputs": [
    {
     "data": {
      "text/plain": [
       "52"
      ]
     },
     "execution_count": 25,
     "metadata": {},
     "output_type": "execute_result"
    }
   ],
   "source": [
    "df['univName'].nunique()"
   ]
  },
  {
   "cell_type": "markdown",
   "id": "9ffcfb7e",
   "metadata": {},
   "source": [
    "There are 52 unique universities in final dataset"
   ]
  },
  {
   "cell_type": "code",
   "execution_count": 26,
   "id": "d2098f8b",
   "metadata": {},
   "outputs": [],
   "source": [
    "df.to_csv('../datasets/admission_data_cleaned.csv', index=False)"
   ]
  },
  {
   "cell_type": "code",
   "execution_count": null,
   "id": "a40c6f8f",
   "metadata": {},
   "outputs": [],
   "source": []
  }
 ],
 "metadata": {
  "kernelspec": {
   "display_name": "ML",
   "language": "python",
   "name": "ml"
  },
  "language_info": {
   "codemirror_mode": {
    "name": "ipython",
    "version": 3
   },
   "file_extension": ".py",
   "mimetype": "text/x-python",
   "name": "python",
   "nbconvert_exporter": "python",
   "pygments_lexer": "ipython3",
   "version": "3.9.7"
  }
 },
 "nbformat": 4,
 "nbformat_minor": 5
}
