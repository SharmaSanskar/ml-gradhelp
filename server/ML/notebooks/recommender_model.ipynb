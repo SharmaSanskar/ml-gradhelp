{
 "cells": [
  {
   "cell_type": "markdown",
   "id": "5b70c768",
   "metadata": {
    "id": "5b70c768"
   },
   "source": [
    "## Model Building"
   ]
  },
  {
   "cell_type": "code",
   "execution_count": 1,
   "id": "4caf3a03",
   "metadata": {
    "id": "4caf3a03"
   },
   "outputs": [],
   "source": [
    "import numpy as np\n",
    "import pandas as pd"
   ]
  },
  {
   "cell_type": "code",
   "execution_count": 2,
   "id": "6d562e71",
   "metadata": {
    "colab": {
     "base_uri": "https://localhost:8080/",
     "height": 206
    },
    "id": "6d562e71",
    "outputId": "863f9489-f6f7-404a-a9e6-82b4897f537e"
   },
   "outputs": [
    {
     "data": {
      "text/html": [
       "<div>\n",
       "<style scoped>\n",
       "    .dataframe tbody tr th:only-of-type {\n",
       "        vertical-align: middle;\n",
       "    }\n",
       "\n",
       "    .dataframe tbody tr th {\n",
       "        vertical-align: top;\n",
       "    }\n",
       "\n",
       "    .dataframe thead th {\n",
       "        text-align: right;\n",
       "    }\n",
       "</style>\n",
       "<table border=\"1\" class=\"dataframe\">\n",
       "  <thead>\n",
       "    <tr style=\"text-align: right;\">\n",
       "      <th></th>\n",
       "      <th>researchExp</th>\n",
       "      <th>industryExp</th>\n",
       "      <th>toeflScore</th>\n",
       "      <th>greV</th>\n",
       "      <th>greQ</th>\n",
       "      <th>greA</th>\n",
       "      <th>univName</th>\n",
       "      <th>cgpaNorm</th>\n",
       "    </tr>\n",
       "  </thead>\n",
       "  <tbody>\n",
       "    <tr>\n",
       "      <th>0</th>\n",
       "      <td>0</td>\n",
       "      <td>66</td>\n",
       "      <td>94.0</td>\n",
       "      <td>146.0</td>\n",
       "      <td>157.0</td>\n",
       "      <td>3.0</td>\n",
       "      <td>Worcester Polytechnic Institute</td>\n",
       "      <td>0.7828</td>\n",
       "    </tr>\n",
       "    <tr>\n",
       "      <th>1</th>\n",
       "      <td>0</td>\n",
       "      <td>0</td>\n",
       "      <td>81.0</td>\n",
       "      <td>148.0</td>\n",
       "      <td>161.0</td>\n",
       "      <td>2.5</td>\n",
       "      <td>Worcester Polytechnic Institute</td>\n",
       "      <td>0.5700</td>\n",
       "    </tr>\n",
       "    <tr>\n",
       "      <th>2</th>\n",
       "      <td>0</td>\n",
       "      <td>0</td>\n",
       "      <td>104.0</td>\n",
       "      <td>150.0</td>\n",
       "      <td>161.0</td>\n",
       "      <td>4.5</td>\n",
       "      <td>Worcester Polytechnic Institute</td>\n",
       "      <td>0.6220</td>\n",
       "    </tr>\n",
       "    <tr>\n",
       "      <th>3</th>\n",
       "      <td>0</td>\n",
       "      <td>0</td>\n",
       "      <td>95.0</td>\n",
       "      <td>147.0</td>\n",
       "      <td>156.0</td>\n",
       "      <td>3.0</td>\n",
       "      <td>Worcester Polytechnic Institute</td>\n",
       "      <td>0.5200</td>\n",
       "    </tr>\n",
       "    <tr>\n",
       "      <th>4</th>\n",
       "      <td>0</td>\n",
       "      <td>0</td>\n",
       "      <td>101.0</td>\n",
       "      <td>152.0</td>\n",
       "      <td>158.0</td>\n",
       "      <td>3.0</td>\n",
       "      <td>Worcester Polytechnic Institute</td>\n",
       "      <td>0.6400</td>\n",
       "    </tr>\n",
       "  </tbody>\n",
       "</table>\n",
       "</div>"
      ],
      "text/plain": [
       "   researchExp  industryExp  toeflScore   greV   greQ  greA  \\\n",
       "0            0           66        94.0  146.0  157.0   3.0   \n",
       "1            0            0        81.0  148.0  161.0   2.5   \n",
       "2            0            0       104.0  150.0  161.0   4.5   \n",
       "3            0            0        95.0  147.0  156.0   3.0   \n",
       "4            0            0       101.0  152.0  158.0   3.0   \n",
       "\n",
       "                          univName  cgpaNorm  \n",
       "0  Worcester Polytechnic Institute    0.7828  \n",
       "1  Worcester Polytechnic Institute    0.5700  \n",
       "2  Worcester Polytechnic Institute    0.6220  \n",
       "3  Worcester Polytechnic Institute    0.5200  \n",
       "4  Worcester Polytechnic Institute    0.6400  "
      ]
     },
     "execution_count": 2,
     "metadata": {},
     "output_type": "execute_result"
    }
   ],
   "source": [
    "df = pd.read_csv('../datasets/final_admission_data.csv')\n",
    "df.head()"
   ]
  },
  {
   "cell_type": "code",
   "execution_count": 3,
   "id": "78165418",
   "metadata": {
    "id": "78165418"
   },
   "outputs": [],
   "source": [
    "from sklearn.model_selection import train_test_split\n",
    "from sklearn.preprocessing import LabelEncoder, StandardScaler\n",
    "from imblearn.over_sampling import SMOTE\n",
    "from imblearn.pipeline import Pipeline\n",
    "import warnings\n",
    "warnings.filterwarnings('ignore')\n",
    "from keras import Sequential\n",
    "from keras.layers import Dense, Dropout\n",
    "from keras.utils import np_utils"
   ]
  },
  {
   "cell_type": "code",
   "execution_count": 4,
   "id": "5947ce53",
   "metadata": {
    "id": "5947ce53"
   },
   "outputs": [],
   "source": [
    "y = df['univName']                 # Name of the University is the target\n",
    "X = df.drop(['univName'], axis=1)  # Remove University name to training data"
   ]
  },
  {
   "cell_type": "code",
   "execution_count": 5,
   "id": "77615865",
   "metadata": {
    "colab": {
     "base_uri": "https://localhost:8080/"
    },
    "id": "77615865",
    "outputId": "116aeb02-2ea6-4c1c-f148-2b36b9ade493",
    "scrolled": true
   },
   "outputs": [
    {
     "data": {
      "text/plain": [
       "((20864, 7), (20864,))"
      ]
     },
     "execution_count": 5,
     "metadata": {},
     "output_type": "execute_result"
    }
   ],
   "source": [
    "X.shape, y.shape "
   ]
  },
  {
   "cell_type": "markdown",
   "id": "22b1274d",
   "metadata": {},
   "source": [
    "#### Converting University names into different categories"
   ]
  },
  {
   "cell_type": "code",
   "execution_count": 6,
   "id": "d14ad808",
   "metadata": {
    "id": "d14ad808"
   },
   "outputs": [],
   "source": [
    "encoder = LabelEncoder()\n",
    "encoder.fit(y)\n",
    "encoded_Y = encoder.transform(y)"
   ]
  },
  {
   "cell_type": "code",
   "execution_count": 7,
   "id": "703d77cd",
   "metadata": {
    "id": "703d77cd"
   },
   "outputs": [],
   "source": [
    "Y = np_utils.to_categorical(encoded_Y)"
   ]
  },
  {
   "cell_type": "markdown",
   "id": "a9e6ec00",
   "metadata": {},
   "source": [
    "#### Oversampling imbalanced data"
   ]
  },
  {
   "cell_type": "code",
   "execution_count": 8,
   "id": "wM275nmzj8ye",
   "metadata": {
    "id": "wM275nmzj8ye"
   },
   "outputs": [],
   "source": [
    "smote = SMOTE(k_neighbors=3)"
   ]
  },
  {
   "cell_type": "code",
   "execution_count": 9,
   "id": "64zWU9Cjj_OQ",
   "metadata": {
    "colab": {
     "base_uri": "https://localhost:8080/"
    },
    "id": "64zWU9Cjj_OQ",
    "outputId": "5aa2765e-1432-4cd6-b2a7-c0dced095414"
   },
   "outputs": [],
   "source": [
    "X1, Y1 = smote.fit_resample(X, Y)"
   ]
  },
  {
   "cell_type": "markdown",
   "id": "bddc0c75",
   "metadata": {},
   "source": [
    "#### Scaling input data"
   ]
  },
  {
   "cell_type": "code",
   "execution_count": 10,
   "id": "b158bec3",
   "metadata": {},
   "outputs": [],
   "source": [
    "scaler = StandardScaler()"
   ]
  },
  {
   "cell_type": "code",
   "execution_count": 11,
   "id": "b48c3b6c",
   "metadata": {},
   "outputs": [],
   "source": [
    "X_transformed = scaler.fit_transform(X1)"
   ]
  },
  {
   "cell_type": "markdown",
   "id": "b383eb68",
   "metadata": {},
   "source": [
    "#### Splitting into training and testing data"
   ]
  },
  {
   "cell_type": "code",
   "execution_count": 12,
   "id": "f1d7b706",
   "metadata": {
    "id": "f1d7b706"
   },
   "outputs": [],
   "source": [
    "X_train, X_test, Y_train, Y_test = train_test_split(X_transformed,Y1,test_size=0.2,random_state=42,shuffle=True)"
   ]
  },
  {
   "cell_type": "code",
   "execution_count": 13,
   "id": "35cfb98f",
   "metadata": {
    "colab": {
     "base_uri": "https://localhost:8080/"
    },
    "id": "35cfb98f",
    "outputId": "e3f24ed3-8e5e-4481-8632-72fdcffb0131",
    "scrolled": true
   },
   "outputs": [
    {
     "data": {
      "text/plain": [
       "((80537, 7), (20135, 7), (80537, 52), (20135, 52))"
      ]
     },
     "execution_count": 13,
     "metadata": {},
     "output_type": "execute_result"
    }
   ],
   "source": [
    "X_train.shape, X_test.shape, Y_train.shape, Y_test.shape"
   ]
  },
  {
   "cell_type": "markdown",
   "id": "b5d5d960",
   "metadata": {},
   "source": [
    "#### Creating Keras neural network"
   ]
  },
  {
   "cell_type": "code",
   "execution_count": 14,
   "id": "ce97d37a",
   "metadata": {
    "id": "ce97d37a"
   },
   "outputs": [
    {
     "name": "stdout",
     "output_type": "stream",
     "text": [
      "Model: \"recommender\"\n",
      "_________________________________________________________________\n",
      "Layer (type)                 Output Shape              Param #   \n",
      "=================================================================\n",
      "dense (Dense)                (None, 256)               2048      \n",
      "_________________________________________________________________\n",
      "dense_1 (Dense)              (None, 512)               131584    \n",
      "_________________________________________________________________\n",
      "dropout (Dropout)            (None, 512)               0         \n",
      "_________________________________________________________________\n",
      "dense_2 (Dense)              (None, 512)               262656    \n",
      "_________________________________________________________________\n",
      "dropout_1 (Dropout)          (None, 512)               0         \n",
      "_________________________________________________________________\n",
      "dense_3 (Dense)              (None, 512)               262656    \n",
      "_________________________________________________________________\n",
      "dropout_2 (Dropout)          (None, 512)               0         \n",
      "_________________________________________________________________\n",
      "dense_4 (Dense)              (None, 256)               131328    \n",
      "_________________________________________________________________\n",
      "dense_5 (Dense)              (None, 52)                13364     \n",
      "=================================================================\n",
      "Total params: 803,636\n",
      "Trainable params: 803,636\n",
      "Non-trainable params: 0\n",
      "_________________________________________________________________\n"
     ]
    }
   ],
   "source": [
    "model = Sequential(name=\"recommender\")\n",
    "model.add(Dense(256, input_dim = X_test.shape[1], activation = 'relu')) # Rectified Linear Unit Activation Function\n",
    "model.add(Dense(512, activation = 'relu'))\n",
    "model.add(Dropout(0.1))\n",
    "model.add(Dense(512, activation = 'relu'))\n",
    "model.add(Dropout(0.1))\n",
    "model.add(Dense(512, activation = 'relu'))\n",
    "model.add(Dropout(0.1))\n",
    "model.add(Dense(256, activation = 'relu'))\n",
    "model.add(Dense(Y_test.shape[1], activation = 'softmax')) # Softmax for multi-class classification\n",
    "# Compile model\n",
    "model.compile(loss = 'categorical_crossentropy', optimizer = 'adam', metrics = ['accuracy'])\n",
    "model.summary()"
   ]
  },
  {
   "cell_type": "code",
   "execution_count": 15,
   "id": "f5f11833",
   "metadata": {
    "id": "f5f11833"
   },
   "outputs": [
    {
     "name": "stdout",
     "output_type": "stream",
     "text": [
      "Epoch 1/150\n",
      "630/630 - 11s - loss: 3.4139 - accuracy: 0.1217\n",
      "Epoch 2/150\n",
      "630/630 - 9s - loss: 3.1180 - accuracy: 0.1894\n",
      "Epoch 3/150\n",
      "630/630 - 11s - loss: 2.9153 - accuracy: 0.2329\n",
      "Epoch 4/150\n",
      "630/630 - 11s - loss: 2.7452 - accuracy: 0.2719\n",
      "Epoch 5/150\n",
      "630/630 - 11s - loss: 2.6022 - accuracy: 0.3009\n",
      "Epoch 6/150\n",
      "630/630 - 11s - loss: 2.4815 - accuracy: 0.3279\n",
      "Epoch 7/150\n",
      "630/630 - 11s - loss: 2.3765 - accuracy: 0.3506\n",
      "Epoch 8/150\n",
      "630/630 - 12s - loss: 2.2882 - accuracy: 0.3703\n",
      "Epoch 9/150\n",
      "630/630 - 11s - loss: 2.2135 - accuracy: 0.3882\n",
      "Epoch 10/150\n",
      "630/630 - 11s - loss: 2.1468 - accuracy: 0.4023\n",
      "Epoch 11/150\n",
      "630/630 - 11s - loss: 2.0866 - accuracy: 0.4148\n",
      "Epoch 12/150\n",
      "630/630 - 11s - loss: 2.0396 - accuracy: 0.4250\n",
      "Epoch 13/150\n",
      "630/630 - 11s - loss: 1.9912 - accuracy: 0.4360\n",
      "Epoch 14/150\n",
      "630/630 - 11s - loss: 1.9424 - accuracy: 0.4455\n",
      "Epoch 15/150\n",
      "630/630 - 11s - loss: 1.9118 - accuracy: 0.4536\n",
      "Epoch 16/150\n",
      "630/630 - 11s - loss: 1.8766 - accuracy: 0.4625\n",
      "Epoch 17/150\n",
      "630/630 - 11s - loss: 1.8469 - accuracy: 0.4676\n",
      "Epoch 18/150\n",
      "630/630 - 11s - loss: 1.8171 - accuracy: 0.4749\n",
      "Epoch 19/150\n",
      "630/630 - 11s - loss: 1.7883 - accuracy: 0.4823\n",
      "Epoch 20/150\n",
      "630/630 - 12s - loss: 1.7671 - accuracy: 0.4857\n",
      "Epoch 21/150\n",
      "630/630 - 11s - loss: 1.7405 - accuracy: 0.4926\n",
      "Epoch 22/150\n",
      "630/630 - 11s - loss: 1.7243 - accuracy: 0.4964\n",
      "Epoch 23/150\n",
      "630/630 - 11s - loss: 1.6930 - accuracy: 0.5041\n",
      "Epoch 24/150\n",
      "630/630 - 11s - loss: 1.6775 - accuracy: 0.5077\n",
      "Epoch 25/150\n",
      "630/630 - 11s - loss: 1.6561 - accuracy: 0.5129\n",
      "Epoch 26/150\n",
      "630/630 - 12s - loss: 1.6461 - accuracy: 0.5150\n",
      "Epoch 27/150\n",
      "630/630 - 11s - loss: 1.6273 - accuracy: 0.5155\n",
      "Epoch 28/150\n",
      "630/630 - 11s - loss: 1.6081 - accuracy: 0.5225\n",
      "Epoch 29/150\n",
      "630/630 - 11s - loss: 1.5932 - accuracy: 0.5275\n",
      "Epoch 30/150\n",
      "630/630 - 11s - loss: 1.5882 - accuracy: 0.5286\n",
      "Epoch 31/150\n",
      "630/630 - 11s - loss: 1.5740 - accuracy: 0.5308\n",
      "Epoch 32/150\n",
      "630/630 - 11s - loss: 1.5599 - accuracy: 0.5339\n",
      "Epoch 33/150\n",
      "630/630 - 11s - loss: 1.5422 - accuracy: 0.5368\n",
      "Epoch 34/150\n",
      "630/630 - 11s - loss: 1.5340 - accuracy: 0.5395\n",
      "Epoch 35/150\n",
      "630/630 - 11s - loss: 1.5163 - accuracy: 0.5432\n",
      "Epoch 36/150\n",
      "630/630 - 11s - loss: 1.5064 - accuracy: 0.5476\n",
      "Epoch 37/150\n",
      "630/630 - 11s - loss: 1.4979 - accuracy: 0.5478\n",
      "Epoch 38/150\n",
      "630/630 - 11s - loss: 1.4904 - accuracy: 0.5497\n",
      "Epoch 39/150\n",
      "630/630 - 11s - loss: 1.4764 - accuracy: 0.5540\n",
      "Epoch 40/150\n",
      "630/630 - 11s - loss: 1.4711 - accuracy: 0.5536\n",
      "Epoch 41/150\n",
      "630/630 - 11s - loss: 1.4631 - accuracy: 0.5562\n",
      "Epoch 42/150\n",
      "630/630 - 11s - loss: 1.4570 - accuracy: 0.5577\n",
      "Epoch 43/150\n",
      "630/630 - 11s - loss: 1.4460 - accuracy: 0.5606\n",
      "Epoch 44/150\n",
      "630/630 - 11s - loss: 1.4385 - accuracy: 0.5637\n",
      "Epoch 45/150\n",
      "630/630 - 12s - loss: 1.4317 - accuracy: 0.5630\n",
      "Epoch 46/150\n",
      "630/630 - 11s - loss: 1.4238 - accuracy: 0.5645\n",
      "Epoch 47/150\n",
      "630/630 - 12s - loss: 1.4155 - accuracy: 0.5697\n",
      "Epoch 48/150\n",
      "630/630 - 11s - loss: 1.4105 - accuracy: 0.5683\n",
      "Epoch 49/150\n",
      "630/630 - 11s - loss: 1.4003 - accuracy: 0.5713\n",
      "Epoch 50/150\n",
      "630/630 - 11s - loss: 1.3931 - accuracy: 0.5737\n",
      "Epoch 51/150\n",
      "630/630 - 11s - loss: 1.3874 - accuracy: 0.5721\n",
      "Epoch 52/150\n",
      "630/630 - 11s - loss: 1.3787 - accuracy: 0.5762\n",
      "Epoch 53/150\n",
      "630/630 - 11s - loss: 1.3765 - accuracy: 0.5755\n",
      "Epoch 54/150\n",
      "630/630 - 11s - loss: 1.3702 - accuracy: 0.5767\n",
      "Epoch 55/150\n",
      "630/630 - 11s - loss: 1.3593 - accuracy: 0.5799\n",
      "Epoch 56/150\n",
      "630/630 - 11s - loss: 1.3577 - accuracy: 0.5806\n",
      "Epoch 57/150\n",
      "630/630 - 11s - loss: 1.3479 - accuracy: 0.5838\n",
      "Epoch 58/150\n",
      "630/630 - 12s - loss: 1.3468 - accuracy: 0.5840\n",
      "Epoch 59/150\n",
      "630/630 - 11s - loss: 1.3370 - accuracy: 0.5865\n",
      "Epoch 60/150\n",
      "630/630 - 11s - loss: 1.3316 - accuracy: 0.5883\n",
      "Epoch 61/150\n",
      "630/630 - 11s - loss: 1.3322 - accuracy: 0.5883\n",
      "Epoch 62/150\n",
      "630/630 - 11s - loss: 1.3219 - accuracy: 0.5880\n",
      "Epoch 63/150\n",
      "630/630 - 11s - loss: 1.3203 - accuracy: 0.5886\n",
      "Epoch 64/150\n",
      "630/630 - 12s - loss: 1.3172 - accuracy: 0.5897\n",
      "Epoch 65/150\n",
      "630/630 - 11s - loss: 1.3085 - accuracy: 0.5919\n",
      "Epoch 66/150\n",
      "630/630 - 11s - loss: 1.3081 - accuracy: 0.5942\n",
      "Epoch 67/150\n",
      "630/630 - 11s - loss: 1.3008 - accuracy: 0.5955\n",
      "Epoch 68/150\n",
      "630/630 - 15s - loss: 1.2890 - accuracy: 0.5970\n",
      "Epoch 69/150\n",
      "630/630 - 11s - loss: 1.2913 - accuracy: 0.5971\n",
      "Epoch 70/150\n",
      "630/630 - 11s - loss: 1.2836 - accuracy: 0.5995\n",
      "Epoch 71/150\n",
      "630/630 - 11s - loss: 1.2831 - accuracy: 0.5974\n",
      "Epoch 72/150\n",
      "630/630 - 11s - loss: 1.2768 - accuracy: 0.6011\n",
      "Epoch 73/150\n",
      "630/630 - 13s - loss: 1.2743 - accuracy: 0.6019\n",
      "Epoch 74/150\n",
      "630/630 - 12s - loss: 1.2693 - accuracy: 0.6037\n",
      "Epoch 75/150\n",
      "630/630 - 11s - loss: 1.2685 - accuracy: 0.6025\n",
      "Epoch 76/150\n",
      "630/630 - 11s - loss: 1.2589 - accuracy: 0.6058\n",
      "Epoch 77/150\n",
      "630/630 - 11s - loss: 1.2614 - accuracy: 0.6034\n",
      "Epoch 78/150\n",
      "630/630 - 11s - loss: 1.2516 - accuracy: 0.6064\n",
      "Epoch 79/150\n",
      "630/630 - 11s - loss: 1.2491 - accuracy: 0.6054\n",
      "Epoch 80/150\n",
      "630/630 - 11s - loss: 1.2435 - accuracy: 0.6102\n",
      "Epoch 81/150\n",
      "630/630 - 11s - loss: 1.2479 - accuracy: 0.6073\n",
      "Epoch 82/150\n",
      "630/630 - 11s - loss: 1.2437 - accuracy: 0.6066\n",
      "Epoch 83/150\n",
      "630/630 - 11s - loss: 1.2385 - accuracy: 0.6116\n",
      "Epoch 84/150\n",
      "630/630 - 11s - loss: 1.2343 - accuracy: 0.6115\n",
      "Epoch 85/150\n",
      "630/630 - 11s - loss: 1.2324 - accuracy: 0.6116\n",
      "Epoch 86/150\n",
      "630/630 - 11s - loss: 1.2326 - accuracy: 0.6122\n",
      "Epoch 87/150\n",
      "630/630 - 11s - loss: 1.2287 - accuracy: 0.6118\n",
      "Epoch 88/150\n",
      "630/630 - 11s - loss: 1.2256 - accuracy: 0.6134\n",
      "Epoch 89/150\n",
      "630/630 - 11s - loss: 1.2192 - accuracy: 0.6143\n",
      "Epoch 90/150\n",
      "630/630 - 11s - loss: 1.2153 - accuracy: 0.6164\n",
      "Epoch 91/150\n",
      "630/630 - 11s - loss: 1.2110 - accuracy: 0.6157\n",
      "Epoch 92/150\n",
      "630/630 - 11s - loss: 1.2080 - accuracy: 0.6176\n",
      "Epoch 93/150\n",
      "630/630 - 11s - loss: 1.2120 - accuracy: 0.6178\n",
      "Epoch 94/150\n",
      "630/630 - 11s - loss: 1.2059 - accuracy: 0.6170\n",
      "Epoch 95/150\n",
      "630/630 - 11s - loss: 1.2014 - accuracy: 0.6198\n",
      "Epoch 96/150\n",
      "630/630 - 11s - loss: 1.1966 - accuracy: 0.6199\n",
      "Epoch 97/150\n",
      "630/630 - 11s - loss: 1.1961 - accuracy: 0.6200\n",
      "Epoch 98/150\n",
      "630/630 - 11s - loss: 1.1934 - accuracy: 0.6212\n",
      "Epoch 99/150\n",
      "630/630 - 11s - loss: 1.1916 - accuracy: 0.6228\n",
      "Epoch 100/150\n",
      "630/630 - 11s - loss: 1.1915 - accuracy: 0.6221\n",
      "Epoch 101/150\n",
      "630/630 - 11s - loss: 1.1874 - accuracy: 0.6214\n",
      "Epoch 102/150\n",
      "630/630 - 11s - loss: 1.1845 - accuracy: 0.6229\n",
      "Epoch 103/150\n",
      "630/630 - 11s - loss: 1.1853 - accuracy: 0.6229\n",
      "Epoch 104/150\n",
      "630/630 - 11s - loss: 1.1737 - accuracy: 0.6250\n",
      "Epoch 105/150\n",
      "630/630 - 11s - loss: 1.1718 - accuracy: 0.6287\n",
      "Epoch 106/150\n",
      "630/630 - 11s - loss: 1.1725 - accuracy: 0.6259\n",
      "Epoch 107/150\n",
      "630/630 - 11s - loss: 1.1719 - accuracy: 0.6248\n",
      "Epoch 108/150\n",
      "630/630 - 11s - loss: 1.1662 - accuracy: 0.6271\n",
      "Epoch 109/150\n",
      "630/630 - 11s - loss: 1.1687 - accuracy: 0.6262\n",
      "Epoch 110/150\n",
      "630/630 - 11s - loss: 1.1622 - accuracy: 0.6289\n",
      "Epoch 111/150\n",
      "630/630 - 11s - loss: 1.1664 - accuracy: 0.6287\n",
      "Epoch 112/150\n",
      "630/630 - 11s - loss: 1.1580 - accuracy: 0.6286\n",
      "Epoch 113/150\n",
      "630/630 - 11s - loss: 1.1612 - accuracy: 0.6290\n",
      "Epoch 114/150\n",
      "630/630 - 11s - loss: 1.1561 - accuracy: 0.6279\n",
      "Epoch 115/150\n",
      "630/630 - 11s - loss: 1.1481 - accuracy: 0.6350\n",
      "Epoch 116/150\n",
      "630/630 - 11s - loss: 1.1603 - accuracy: 0.6284\n",
      "Epoch 117/150\n",
      "630/630 - 11s - loss: 1.1468 - accuracy: 0.6313\n",
      "Epoch 118/150\n",
      "630/630 - 11s - loss: 1.1427 - accuracy: 0.6339\n",
      "Epoch 119/150\n",
      "630/630 - 11s - loss: 1.1406 - accuracy: 0.6334\n",
      "Epoch 120/150\n",
      "630/630 - 11s - loss: 1.1452 - accuracy: 0.6337\n",
      "Epoch 121/150\n",
      "630/630 - 11s - loss: 1.1419 - accuracy: 0.6338\n",
      "Epoch 122/150\n",
      "630/630 - 11s - loss: 1.1416 - accuracy: 0.6339\n",
      "Epoch 123/150\n",
      "630/630 - 11s - loss: 1.1374 - accuracy: 0.6366\n",
      "Epoch 124/150\n",
      "630/630 - 11s - loss: 1.1349 - accuracy: 0.6353\n",
      "Epoch 125/150\n",
      "630/630 - 11s - loss: 1.1326 - accuracy: 0.6366\n",
      "Epoch 126/150\n",
      "630/630 - 11s - loss: 1.1308 - accuracy: 0.6362\n",
      "Epoch 127/150\n",
      "630/630 - 11s - loss: 1.1290 - accuracy: 0.6378\n",
      "Epoch 128/150\n",
      "630/630 - 11s - loss: 1.1312 - accuracy: 0.6366\n",
      "Epoch 129/150\n",
      "630/630 - 11s - loss: 1.1218 - accuracy: 0.6380\n",
      "Epoch 130/150\n",
      "630/630 - 11s - loss: 1.1239 - accuracy: 0.6405\n",
      "Epoch 131/150\n",
      "630/630 - 11s - loss: 1.1197 - accuracy: 0.6396\n",
      "Epoch 132/150\n",
      "630/630 - 11s - loss: 1.1204 - accuracy: 0.6397\n",
      "Epoch 133/150\n",
      "630/630 - 11s - loss: 1.1167 - accuracy: 0.6409\n",
      "Epoch 134/150\n",
      "630/630 - 11s - loss: 1.1188 - accuracy: 0.6389\n"
     ]
    },
    {
     "name": "stdout",
     "output_type": "stream",
     "text": [
      "Epoch 135/150\n",
      "630/630 - 11s - loss: 1.1154 - accuracy: 0.6407\n",
      "Epoch 136/150\n",
      "630/630 - 11s - loss: 1.1144 - accuracy: 0.6407\n",
      "Epoch 137/150\n",
      "630/630 - 11s - loss: 1.1100 - accuracy: 0.6406\n",
      "Epoch 138/150\n",
      "630/630 - 11s - loss: 1.1134 - accuracy: 0.6410\n",
      "Epoch 139/150\n",
      "630/630 - 11s - loss: 1.1152 - accuracy: 0.6417\n",
      "Epoch 140/150\n",
      "630/630 - 11s - loss: 1.1093 - accuracy: 0.6411\n",
      "Epoch 141/150\n",
      "630/630 - 11s - loss: 1.1075 - accuracy: 0.6410\n",
      "Epoch 142/150\n",
      "630/630 - 11s - loss: 1.1015 - accuracy: 0.6429\n",
      "Epoch 143/150\n",
      "630/630 - 11s - loss: 1.0994 - accuracy: 0.6442\n",
      "Epoch 144/150\n",
      "630/630 - 11s - loss: 1.1031 - accuracy: 0.6437\n",
      "Epoch 145/150\n",
      "630/630 - 11s - loss: 1.0959 - accuracy: 0.6458\n",
      "Epoch 146/150\n",
      "630/630 - 11s - loss: 1.0964 - accuracy: 0.6432\n",
      "Epoch 147/150\n",
      "630/630 - 12s - loss: 1.0923 - accuracy: 0.6466\n",
      "Epoch 148/150\n",
      "630/630 - 13s - loss: 1.0929 - accuracy: 0.6451\n",
      "Epoch 149/150\n",
      "630/630 - 11s - loss: 1.0961 - accuracy: 0.6462\n",
      "Epoch 150/150\n",
      "630/630 - 11s - loss: 1.0878 - accuracy: 0.6482\n"
     ]
    },
    {
     "data": {
      "text/plain": [
       "<keras.callbacks.History at 0x1e04fd90d30>"
      ]
     },
     "execution_count": 15,
     "metadata": {},
     "output_type": "execute_result"
    }
   ],
   "source": [
    "model.fit(X_train, Y_train, epochs=150, batch_size=128, verbose=2)"
   ]
  },
  {
   "cell_type": "code",
   "execution_count": 16,
   "id": "d6f9e645",
   "metadata": {
    "colab": {
     "base_uri": "https://localhost:8080/"
    },
    "id": "d6f9e645",
    "outputId": "05294cab-c4f4-4582-95e4-f8516a8200f6"
   },
   "outputs": [
    {
     "name": "stdout",
     "output_type": "stream",
     "text": [
      "[[-0.13438372 -0.29629694  0.86058662  0.37686211  0.71623673  1.45314144\n",
      "   0.14748754]]\n"
     ]
    }
   ],
   "source": [
    "# researchExp, industryExp, toeflScore, greV, greQ, greA, cgpaNorm\n",
    "test_data = scaler.transform([[0, 0, 113, 158, 166, 4.5, 0.8]])\n",
    "print(test_data)"
   ]
  },
  {
   "cell_type": "code",
   "execution_count": 17,
   "id": "51818a03",
   "metadata": {},
   "outputs": [
    {
     "name": "stdout",
     "output_type": "stream",
     "text": [
      "[5.0733128e-04 1.3313101e-28 1.5352349e-03 2.1607613e-07 4.8508685e-08\n",
      " 8.7651533e-06 4.8379252e-11 1.9158901e-03 2.1868270e-06 4.5879133e-15\n",
      " 8.5450913e-10 1.1079310e-04 6.0293922e-04 2.4318374e-06 1.6041174e-11\n",
      " 2.3183487e-04 2.0010530e-07 1.4473535e-06 1.6581333e-06 6.8639294e-04\n",
      " 4.8307041e-04 5.9673341e-04 2.3056092e-03 2.9021254e-09 4.5839140e-12\n",
      " 3.5943824e-06 8.6700701e-04 3.0950662e-08 4.1985736e-08 2.1865057e-10\n",
      " 1.8547983e-04 5.3417502e-04 4.2225682e-04 1.2011651e-05 5.5157818e-07\n",
      " 3.2573373e-06 2.0596630e-05 3.4074444e-01 2.6888584e-04 1.6050921e-09\n",
      " 2.9180672e-05 8.1093721e-03 2.4370567e-03 2.7055587e-05 4.7604324e-05\n",
      " 3.4384776e-04 2.9261793e-05 4.0840292e-05 4.5292565e-01 1.8395498e-01\n",
      " 1.4204989e-16 1.0274788e-12]\n"
     ]
    }
   ],
   "source": [
    "pred = model.predict(test_data)[0]\n",
    "print(pred)"
   ]
  },
  {
   "cell_type": "code",
   "execution_count": 18,
   "id": "v7_--8IBsSyg",
   "metadata": {
    "colab": {
     "base_uri": "https://localhost:8080/"
    },
    "id": "v7_--8IBsSyg",
    "outputId": "33ca9c48-589e-48b2-e334-26b351a41461"
   },
   "outputs": [
    {
     "name": "stdout",
     "output_type": "stream",
     "text": [
      "['University of Wisconsin Madison' 'University of Michigan Ann Arbor'\n",
      " 'Virginia Tech']\n"
     ]
    }
   ],
   "source": [
    "def top_recommendations(n, pred):\n",
    "  recommendations = []\n",
    "  for i in range(n):\n",
    "    pred_class = np.argmax(pred, axis=-1)\n",
    "    recommendations.append(pred_class)\n",
    "    pred[pred_class] = -1\n",
    "  return encoder.inverse_transform(recommendations)\n",
    "\n",
    "r_unis = top_recommendations(3, pred)\n",
    "print(r_unis)"
   ]
  },
  {
   "cell_type": "markdown",
   "id": "8d5b006e",
   "metadata": {},
   "source": [
    "#### Exporting Assets"
   ]
  },
  {
   "cell_type": "code",
   "execution_count": 19,
   "id": "JwZxcGiWLG-_",
   "metadata": {
    "colab": {
     "base_uri": "https://localhost:8080/"
    },
    "id": "JwZxcGiWLG-_",
    "outputId": "71d4b9ae-d45b-4874-87a0-28db61ed37bb"
   },
   "outputs": [],
   "source": [
    "import pickle\n",
    "\n",
    "with open('../models/label_encoder.pickle', 'wb') as file:\n",
    "    pickle.dump(encoder, file)\n",
    "\n",
    "with open('../models/std_scaler.pickle', 'wb') as file:\n",
    "    pickle.dump(scaler, file)"
   ]
  },
  {
   "cell_type": "code",
   "execution_count": 20,
   "id": "ae646274",
   "metadata": {},
   "outputs": [
    {
     "name": "stdout",
     "output_type": "stream",
     "text": [
      "INFO:tensorflow:Assets written to: ../models/uni_recommender_150\\assets\n"
     ]
    }
   ],
   "source": [
    "model.save('../models/uni_recommender_150')"
   ]
  },
  {
   "cell_type": "markdown",
   "id": "71572555",
   "metadata": {},
   "source": [
    "---"
   ]
  }
 ],
 "metadata": {
  "accelerator": "TPU",
  "colab": {
   "collapsed_sections": [],
   "name": "recommender_model.ipynb",
   "provenance": []
  },
  "kernelspec": {
   "display_name": "Python 3 (ipykernel)",
   "language": "python",
   "name": "python3"
  },
  "language_info": {
   "codemirror_mode": {
    "name": "ipython",
    "version": 3
   },
   "file_extension": ".py",
   "mimetype": "text/x-python",
   "name": "python",
   "nbconvert_exporter": "python",
   "pygments_lexer": "ipython3",
   "version": "3.9.7"
  }
 },
 "nbformat": 4,
 "nbformat_minor": 5
}
